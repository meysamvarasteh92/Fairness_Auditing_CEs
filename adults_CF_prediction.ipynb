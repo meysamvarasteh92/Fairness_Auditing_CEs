{
  "cells": [
    {
      "cell_type": "markdown",
      "metadata": {
        "id": "view-in-github",
        "colab_type": "text"
      },
      "source": [
        "<a href=\"https://colab.research.google.com/github/meysamvarasteh92/meysamvarasteh/blob/main/adults_CF_prediction.ipynb\" target=\"_parent\"><img src=\"https://colab.research.google.com/assets/colab-badge.svg\" alt=\"Open In Colab\"/></a>"
      ]
    },
    {
      "cell_type": "markdown",
      "metadata": {
        "id": "27f278b4-f8a8-491a-b582-7786f2c96b42"
      },
      "source": [
        "Sum of score is created on ground truth, so we use ground truth information as well and its becoming like predictive parity not statiscial parity\n",
        "\n",
        "Negative effort is there, because previously we were generating counterfactuals based on ground truth, and some of the samples initially would have 1 prediction, upon counterfactual generation, they obtain negative effort to change prediction to 0\n",
        "\n",
        "Should we calculate Effort for all of the dataset, or for 0 ground truths, or for 0 predictions?\n",
        "Should we change score and base it on prediction rather than ground truth?\n",
        "\n",
        "Remove sum of score from model training\n",
        "\n",
        "Should we change Majority male to base it on counterfactual? Currently majority male does not make counterfactual generation easier for men\n",
        "and does not make it harder for females too, so males and females probably would have similar efforts...\n",
        "\n",
        "Maybe we should create a model, that, based on Qualification e.g. predicts 0 or 1 for males and females. But for females, it requires more qualification\n",
        "Or maybe we can create a Logistic regression, or any model, and before fitting the model, we worsen 2 features of the men, keeping the prediction constant?\n",
        "\n",
        "Show relation of accuracy and effort?"
      ],
      "id": "27f278b4-f8a8-491a-b582-7786f2c96b42"
    },
    {
      "cell_type": "markdown",
      "metadata": {
        "id": "07795ac6-da93-4cab-90ce-832ac4b006ce"
      },
      "source": [
        "# Import libraries"
      ],
      "id": "07795ac6-da93-4cab-90ce-832ac4b006ce"
    },
    {
      "cell_type": "code",
      "execution_count": null,
      "metadata": {
        "colab": {
          "base_uri": "https://localhost:8080/"
        },
        "id": "ac58922e-5665-484a-8623-be1773fdbfec",
        "outputId": "1f17b082-14df-4bbc-a7fe-8e8727a74be8"
      },
      "outputs": [
        {
          "name": "stdout",
          "output_type": "stream",
          "text": [
            "Looking in indexes: https://pypi.org/simple, https://us-python.pkg.dev/colab-wheels/public/simple/\n",
            "Collecting dice-ml\n",
            "  Downloading dice_ml-0.8-py3-none-any.whl (213 kB)\n",
            "\u001b[K     |████████████████████████████████| 213 kB 2.1 MB/s \n",
            "\u001b[?25hRequirement already satisfied: jsonschema in /usr/local/lib/python3.7/dist-packages (from dice-ml) (4.3.3)\n",
            "Requirement already satisfied: tqdm in /usr/local/lib/python3.7/dist-packages (from dice-ml) (4.64.1)\n",
            "Requirement already satisfied: pandas in /usr/local/lib/python3.7/dist-packages (from dice-ml) (1.3.5)\n",
            "Requirement already satisfied: numpy in /usr/local/lib/python3.7/dist-packages (from dice-ml) (1.21.6)\n",
            "Requirement already satisfied: h5py in /usr/local/lib/python3.7/dist-packages (from dice-ml) (3.1.0)\n",
            "Requirement already satisfied: scikit-learn in /usr/local/lib/python3.7/dist-packages (from dice-ml) (1.0.2)\n",
            "Requirement already satisfied: cached-property in /usr/local/lib/python3.7/dist-packages (from h5py->dice-ml) (1.5.2)\n",
            "Requirement already satisfied: typing-extensions in /usr/local/lib/python3.7/dist-packages (from jsonschema->dice-ml) (4.1.1)\n",
            "Requirement already satisfied: importlib-metadata in /usr/local/lib/python3.7/dist-packages (from jsonschema->dice-ml) (4.12.0)\n",
            "Requirement already satisfied: attrs>=17.4.0 in /usr/local/lib/python3.7/dist-packages (from jsonschema->dice-ml) (22.1.0)\n",
            "Requirement already satisfied: importlib-resources>=1.4.0 in /usr/local/lib/python3.7/dist-packages (from jsonschema->dice-ml) (5.9.0)\n",
            "Requirement already satisfied: pyrsistent!=0.17.0,!=0.17.1,!=0.17.2,>=0.14.0 in /usr/local/lib/python3.7/dist-packages (from jsonschema->dice-ml) (0.18.1)\n",
            "Requirement already satisfied: zipp>=3.1.0 in /usr/local/lib/python3.7/dist-packages (from importlib-resources>=1.4.0->jsonschema->dice-ml) (3.8.1)\n",
            "Requirement already satisfied: python-dateutil>=2.7.3 in /usr/local/lib/python3.7/dist-packages (from pandas->dice-ml) (2.8.2)\n",
            "Requirement already satisfied: pytz>=2017.3 in /usr/local/lib/python3.7/dist-packages (from pandas->dice-ml) (2022.2.1)\n",
            "Requirement already satisfied: six>=1.5 in /usr/local/lib/python3.7/dist-packages (from python-dateutil>=2.7.3->pandas->dice-ml) (1.15.0)\n",
            "Requirement already satisfied: threadpoolctl>=2.0.0 in /usr/local/lib/python3.7/dist-packages (from scikit-learn->dice-ml) (3.1.0)\n",
            "Requirement already satisfied: joblib>=0.11 in /usr/local/lib/python3.7/dist-packages (from scikit-learn->dice-ml) (1.1.0)\n",
            "Requirement already satisfied: scipy>=1.1.0 in /usr/local/lib/python3.7/dist-packages (from scikit-learn->dice-ml) (1.7.3)\n",
            "Installing collected packages: dice-ml\n",
            "Successfully installed dice-ml-0.8\n"
          ]
        }
      ],
      "source": [
        "!pip install dice-ml\n",
        "import dice_ml\n",
        "import pandas as pd\n",
        "import numpy as np\n",
        "import matplotlib.pyplot as plt\n",
        "import seaborn as sns\n",
        "from IPython.display import display_html\n",
        "import sklearn\n",
        "from sklearn.pipeline import Pipeline\n",
        "from sklearn.preprocessing import OneHotEncoder\n",
        "from sklearn.compose import ColumnTransformer\n",
        "from sklearn.ensemble import RandomForestClassifier,AdaBoostClassifier\n",
        "from sklearn.tree import DecisionTreeClassifier\n",
        "from sklearn import svm\n",
        "from sklearn.gaussian_process import GaussianProcessClassifier\n",
        "from sklearn.neural_network import MLPClassifier\n",
        "from sklearn.neighbors import KNeighborsClassifier\n",
        "from sklearn.metrics import confusion_matrix"
      ],
      "id": "ac58922e-5665-484a-8623-be1773fdbfec"
    },
    {
      "cell_type": "markdown",
      "metadata": {
        "id": "b0456d9b-5b3c-4caa-9103-abd929a619bf"
      },
      "source": [
        "# Data"
      ],
      "id": "b0456d9b-5b3c-4caa-9103-abd929a619bf"
    },
    {
      "cell_type": "markdown",
      "metadata": {
        "id": "8db113e1-fb83-45a9-a3da-f9b80c1cf887"
      },
      "source": [
        "## Preprocessing"
      ],
      "id": "8db113e1-fb83-45a9-a3da-f9b80c1cf887"
    },
    {
      "cell_type": "code",
      "execution_count": null,
      "metadata": {
        "colab": {
          "background_save": true
        },
        "id": "7a208f7d-8ad9-4de8-8c4d-3b92a755ed9a"
      },
      "outputs": [],
      "source": [
        "features_unique={'age': 'continuous',\n",
        "'workclass': ['Private', 'Self-emp-not-inc', 'Self-emp-inc', 'Federal-gov', 'Local-gov', 'State-gov', 'Without-pay', 'Never-worked'],\n",
        "'fnlwgt': 'continuous', #weight for how many people belong to that class in the individual states\n",
        "'education': ['Bachelors', 'Some-college', '11th', 'HS-grad', 'Prof-school', 'Assoc-acdm', 'Assoc-voc', '9th', '7th-8th', '12th', 'Masters', '1st-4th', '10th', 'Doctorate', '5th-6th', 'Preschool'],\n",
        "'education-num': 'continuous',\n",
        "'marital-status': ['Married-civ-spouse', 'Divorced', 'Never-married', 'Separated', 'Widowed', 'Married-spouse-absent', 'Married-AF-spouse'],\n",
        "'occupation': ['Tech-support', 'Craft-repair', 'Other-service', 'Sales', 'Exec-managerial', 'Prof-specialty', 'Handlers-cleaners', 'Machine-op-inspct', 'Adm-clerical', 'Farming-fishing', 'Transport-moving', 'Priv-house-serv', 'Protective-serv', 'Armed-Forces'],\n",
        "'relationship': ['Wife', 'Own-child', 'Husband', 'Not-in-family', 'Other-relative', 'Unmarried'],\n",
        "'race': ['White', 'Asian-Pac-Islander', 'Amer-Indian-Eskimo', 'Other', 'Black'],\n",
        "'sex': ['Female', 'Male'],\n",
        "'capital-gain': 'continuous',\n",
        "'capital-loss': 'continuous',\n",
        "'hours_per_week': 'continuous',\n",
        "'native_country': ['United-States', 'Cambodia', 'England', 'Puerto-Rico', 'Canada', 'Germany', 'Outlying-US(Guam-USVI-etc)', 'India', 'Japan', 'Greece', 'South', 'China', 'Cuba', 'Iran', 'Honduras', 'Philippines', 'Italy', 'Poland', 'Jamaica', 'Vietnam', 'Mexico', 'Portugal', 'Ireland', 'France', 'Dominican-Republic', 'Laos', 'Ecuador', 'Taiwan', 'Haiti', 'Columbia', 'Hungary', 'Guatemala', 'Nicaragua', 'Scotland', 'Thailand', 'Yugoslavia', 'El-Salvador', 'Trinadad&Tobago', 'Peru', 'Hong', 'Holand-Netherlands'],\n",
        "'result': ['>50K', '<=50K']}\n",
        "features_categorical=[] #initialize empty categorical feature values\n",
        "features_numerical=[] #initialize empty numerical feature values\n",
        "for key in features_unique:\n",
        "  if features_unique[key] != 'continuous':\n",
        "    features_categorical.append(key)\n",
        "  elif key != 'education-num' and key != 'fnlwgt':\n",
        "    features_numerical.append(key)\n",
        "  \n",
        "features_categorical[:-1]\n",
        "features_categorical_s=['sex','race','native_country']  #Sensitive features\n",
        "#features_categorical_s=['native-country']  #Sensitive features\n",
        "\n",
        "features_categorical_ns=list(set(features_categorical[:-1])-set(features_categorical_s))   #nonsensitive features"
      ],
      "id": "7a208f7d-8ad9-4de8-8c4d-3b92a755ed9a"
    },
    {
      "cell_type": "markdown",
      "metadata": {
        "id": "G-rcE6J85h7J"
      },
      "source": [],
      "id": "G-rcE6J85h7J"
    },
    {
      "cell_type": "code",
      "execution_count": null,
      "metadata": {
        "colab": {
          "background_save": true
        },
        "id": "133ef471-ca1c-4874-9c85-f1e0fbdbf1e6"
      },
      "outputs": [],
      "source": [
        "adults_df = pd.read_csv('https://archive.ics.uci.edu/ml/machine-learning-databases/adult/adult.data',sep=',',header=None)\n",
        "\n",
        "adults_df.columns = list(features_unique.keys())\n",
        "#display(adults_df)\n",
        "\n",
        "adults_df=adults_df.drop(['fnlwgt','education-num'],axis=1) #fnlwgt is useless,\n",
        "\n",
        "for feature in features_categorical:\n",
        "  adults_df.replace([' '+string for string in features_unique[feature]],features_unique[feature],inplace=True)\n",
        "\n",
        "adults_df.loc[adults_df.result.str.contains(\"<=50K\")==True,'result']= False\n",
        "adults_df.loc[adults_df.result.str.contains(\">50K\")==True,'result']= True\n",
        "adults_df.loc[(adults_df.relationship == 'Husband') | (adults_df.relationship == 'Wife'),'relationship'] = ' Married'\n",
        "adults_df=adults_df.drop(adults_df.loc[adults_df.native_country==\"Holand-Netherlands\"].index.values)\n",
        "\n",
        "\n",
        "def agebrackets(age):\n",
        "  if age<24:\n",
        "    age_range = '18-24'\n",
        "  elif age<40:\n",
        "    age_range = '25-40'\n",
        "  elif age<60:\n",
        "    age_range = '41-60'\n",
        "  else:\n",
        "    age_range = '>60'\n",
        "  return age_range\n",
        "adults_df.age = adults_df.age.apply(agebrackets)\n",
        "\n",
        "adults_df_trial=adults_df.replace(to_replace=' ?', value=np.nan,inplace=True)\n",
        "adults_df_trial=adults_df.dropna()\n",
        "adults_df=adults_df.dropna()"
      ],
      "id": "133ef471-ca1c-4874-9c85-f1e0fbdbf1e6"
    },
    {
      "cell_type": "code",
      "execution_count": null,
      "metadata": {
        "id": "34d9264b-e9f4-4817-b25a-044b9ed8c3e4"
      },
      "outputs": [],
      "source": [
        "def hours_per_week_brackets(hours):\n",
        "  if hours<20:\n",
        "    hours_range = '0-20'\n",
        "  elif hours<30:\n",
        "    hours_range = '21-30'\n",
        "  elif hours<40:\n",
        "    hours_range = '31-40'\n",
        "  elif hours<50:\n",
        "    hours_range = '41-50'\n",
        "  else:\n",
        "    hours_range = '>50'\n",
        "  return hours_range\n",
        "\n",
        "adults_df.hours_per_week = adults_df.hours_per_week.apply(hours_per_week_brackets)"
      ],
      "id": "34d9264b-e9f4-4817-b25a-044b9ed8c3e4"
    },
    {
      "cell_type": "code",
      "execution_count": null,
      "metadata": {
        "id": "e13338dc-d378-455b-9f2f-6e85c8ec08fd"
      },
      "outputs": [],
      "source": [
        "features_categorical_ns.append('hours_per_week')"
      ],
      "id": "e13338dc-d378-455b-9f2f-6e85c8ec08fd"
    },
    {
      "cell_type": "code",
      "execution_count": null,
      "metadata": {
        "colab": {
          "base_uri": "https://localhost:8080/",
          "height": 416
        },
        "id": "39b03af3-d4fe-486b-938b-9fe92df4b168",
        "outputId": "18a64474-96a6-4be0-faf5-19e5feb22d83"
      },
      "outputs": [
        {
          "data": {
            "text/html": [
              "<style type=\"text/css\">\n",
              "</style>\n",
              "<table id=\"T_f091c_\" style='display:inline'>\n",
              "  <caption>education</caption>\n",
              "  <thead>\n",
              "    <tr>\n",
              "      <th class=\"blank level0\" >&nbsp;</th>\n",
              "      <th class=\"col_heading level0 col0\" ></th>\n",
              "    </tr>\n",
              "    <tr>\n",
              "      <th class=\"index_name level0\" >education</th>\n",
              "      <th class=\"blank col0\" >&nbsp;</th>\n",
              "    </tr>\n",
              "  </thead>\n",
              "  <tbody>\n",
              "    <tr>\n",
              "      <th id=\"T_f091c_level0_row0\" class=\"row_heading level0 row0\" >Prof-school</th>\n",
              "      <td id=\"T_f091c_row0_col0\" class=\"data row0 col0\" >10.000000</td>\n",
              "    </tr>\n",
              "    <tr>\n",
              "      <th id=\"T_f091c_level0_row1\" class=\"row_heading level0 row1\" >Doctorate</th>\n",
              "      <td id=\"T_f091c_row1_col0\" class=\"data row1 col0\" >9.967816</td>\n",
              "    </tr>\n",
              "    <tr>\n",
              "      <th id=\"T_f091c_level0_row2\" class=\"row_heading level0 row2\" >Masters</th>\n",
              "      <td id=\"T_f091c_row2_col0\" class=\"data row2 col0\" >7.532313</td>\n",
              "    </tr>\n",
              "    <tr>\n",
              "      <th id=\"T_f091c_level0_row3\" class=\"row_heading level0 row3\" >Bachelors</th>\n",
              "      <td id=\"T_f091c_row3_col0\" class=\"data row3 col0\" >5.626799</td>\n",
              "    </tr>\n",
              "    <tr>\n",
              "      <th id=\"T_f091c_level0_row4\" class=\"row_heading level0 row4\" >Assoc-voc</th>\n",
              "      <td id=\"T_f091c_row4_col0\" class=\"data row4 col0\" >3.513631</td>\n",
              "    </tr>\n",
              "    <tr>\n",
              "      <th id=\"T_f091c_level0_row5\" class=\"row_heading level0 row5\" >Assoc-acdm</th>\n",
              "      <td id=\"T_f091c_row5_col0\" class=\"data row5 col0\" >3.390414</td>\n",
              "    </tr>\n",
              "    <tr>\n",
              "      <th id=\"T_f091c_level0_row6\" class=\"row_heading level0 row6\" >Some-college</th>\n",
              "      <td id=\"T_f091c_row6_col0\" class=\"data row6 col0\" >2.671150</td>\n",
              "    </tr>\n",
              "    <tr>\n",
              "      <th id=\"T_f091c_level0_row7\" class=\"row_heading level0 row7\" >HS-grad</th>\n",
              "      <td id=\"T_f091c_row7_col0\" class=\"data row7 col0\" >2.193755</td>\n",
              "    </tr>\n",
              "    <tr>\n",
              "      <th id=\"T_f091c_level0_row8\" class=\"row_heading level0 row8\" >12th</th>\n",
              "      <td id=\"T_f091c_row8_col0\" class=\"data row8 col0\" >1.026904</td>\n",
              "    </tr>\n",
              "    <tr>\n",
              "      <th id=\"T_f091c_level0_row9\" class=\"row_heading level0 row9\" >10th</th>\n",
              "      <td id=\"T_f091c_row9_col0\" class=\"data row9 col0\" >0.960531</td>\n",
              "    </tr>\n",
              "    <tr>\n",
              "      <th id=\"T_f091c_level0_row10\" class=\"row_heading level0 row10\" >7th-8th</th>\n",
              "      <td id=\"T_f091c_row10_col0\" class=\"data row10 col0\" >0.838853</td>\n",
              "    </tr>\n",
              "    <tr>\n",
              "      <th id=\"T_f091c_level0_row11\" class=\"row_heading level0 row11\" >11th</th>\n",
              "      <td id=\"T_f091c_row11_col0\" class=\"data row11 col0\" >0.751561</td>\n",
              "    </tr>\n",
              "    <tr>\n",
              "      <th id=\"T_f091c_level0_row12\" class=\"row_heading level0 row12\" >9th</th>\n",
              "      <td id=\"T_f091c_row12_col0\" class=\"data row12 col0\" >0.733503</td>\n",
              "    </tr>\n",
              "    <tr>\n",
              "      <th id=\"T_f091c_level0_row13\" class=\"row_heading level0 row13\" >5th-6th</th>\n",
              "      <td id=\"T_f091c_row13_col0\" class=\"data row13 col0\" >0.556240</td>\n",
              "    </tr>\n",
              "    <tr>\n",
              "      <th id=\"T_f091c_level0_row14\" class=\"row_heading level0 row14\" >1st-4th</th>\n",
              "      <td id=\"T_f091c_row14_col0\" class=\"data row14 col0\" >0.530454</td>\n",
              "    </tr>\n",
              "    <tr>\n",
              "      <th id=\"T_f091c_level0_row15\" class=\"row_heading level0 row15\" >Preschool</th>\n",
              "      <td id=\"T_f091c_row15_col0\" class=\"data row15 col0\" >nan</td>\n",
              "    </tr>\n",
              "  </tbody>\n",
              "</table>\n",
              "<style type=\"text/css\">\n",
              "</style>\n",
              "<table id=\"T_479f1_\" style='display:inline'>\n",
              "  <caption>occupation</caption>\n",
              "  <thead>\n",
              "    <tr>\n",
              "      <th class=\"blank level0\" >&nbsp;</th>\n",
              "      <th class=\"col_heading level0 col0\" ></th>\n",
              "    </tr>\n",
              "    <tr>\n",
              "      <th class=\"index_name level0\" >occupation</th>\n",
              "      <th class=\"blank col0\" >&nbsp;</th>\n",
              "    </tr>\n",
              "  </thead>\n",
              "  <tbody>\n",
              "    <tr>\n",
              "      <th id=\"T_479f1_level0_row0\" class=\"row_heading level0 row0\" >Exec-managerial</th>\n",
              "      <td id=\"T_479f1_row0_col0\" class=\"data row0 col0\" >6.477573</td>\n",
              "    </tr>\n",
              "    <tr>\n",
              "      <th id=\"T_479f1_level0_row1\" class=\"row_heading level0 row1\" >Prof-specialty</th>\n",
              "      <td id=\"T_479f1_row1_col0\" class=\"data row1 col0\" >5.987222</td>\n",
              "    </tr>\n",
              "    <tr>\n",
              "      <th id=\"T_479f1_level0_row2\" class=\"row_heading level0 row2\" >Protective-serv</th>\n",
              "      <td id=\"T_479f1_row2_col0\" class=\"data row2 col0\" >4.353181</td>\n",
              "    </tr>\n",
              "    <tr>\n",
              "      <th id=\"T_479f1_level0_row3\" class=\"row_heading level0 row3\" >Tech-support</th>\n",
              "      <td id=\"T_479f1_row3_col0\" class=\"data row3 col0\" >4.069333</td>\n",
              "    </tr>\n",
              "    <tr>\n",
              "      <th id=\"T_479f1_level0_row4\" class=\"row_heading level0 row4\" >Sales</th>\n",
              "      <td id=\"T_479f1_row4_col0\" class=\"data row4 col0\" >3.613075</td>\n",
              "    </tr>\n",
              "    <tr>\n",
              "      <th id=\"T_479f1_level0_row5\" class=\"row_heading level0 row5\" >Craft-repair</th>\n",
              "      <td id=\"T_479f1_row5_col0\" class=\"data row5 col0\" >3.007835</td>\n",
              "    </tr>\n",
              "    <tr>\n",
              "      <th id=\"T_479f1_level0_row6\" class=\"row_heading level0 row6\" >Transport-moving</th>\n",
              "      <td id=\"T_479f1_row6_col0\" class=\"data row6 col0\" >2.709015</td>\n",
              "    </tr>\n",
              "    <tr>\n",
              "      <th id=\"T_479f1_level0_row7\" class=\"row_heading level0 row7\" >Adm-clerical</th>\n",
              "      <td id=\"T_479f1_row7_col0\" class=\"data row7 col0\" >1.786664</td>\n",
              "    </tr>\n",
              "    <tr>\n",
              "      <th id=\"T_479f1_level0_row8\" class=\"row_heading level0 row8\" >Machine-op-inspct</th>\n",
              "      <td id=\"T_479f1_row8_col0\" class=\"data row8 col0\" >1.664473</td>\n",
              "    </tr>\n",
              "    <tr>\n",
              "      <th id=\"T_479f1_level0_row9\" class=\"row_heading level0 row9\" >Farming-fishing</th>\n",
              "      <td id=\"T_479f1_row9_col0\" class=\"data row9 col0\" >1.552297</td>\n",
              "    </tr>\n",
              "    <tr>\n",
              "      <th id=\"T_479f1_level0_row10\" class=\"row_heading level0 row10\" >Armed-Forces</th>\n",
              "      <td id=\"T_479f1_row10_col0\" class=\"data row10 col0\" >1.483306</td>\n",
              "    </tr>\n",
              "    <tr>\n",
              "      <th id=\"T_479f1_level0_row11\" class=\"row_heading level0 row11\" >Handlers-cleaners</th>\n",
              "      <td id=\"T_479f1_row11_col0\" class=\"data row11 col0\" >0.820763</td>\n",
              "    </tr>\n",
              "    <tr>\n",
              "      <th id=\"T_479f1_level0_row12\" class=\"row_heading level0 row12\" >Other-service</th>\n",
              "      <td id=\"T_479f1_row12_col0\" class=\"data row12 col0\" >0.548620</td>\n",
              "    </tr>\n",
              "    <tr>\n",
              "      <th id=\"T_479f1_level0_row13\" class=\"row_heading level0 row13\" >Priv-house-serv</th>\n",
              "      <td id=\"T_479f1_row13_col0\" class=\"data row13 col0\" >0.093355</td>\n",
              "    </tr>\n",
              "  </tbody>\n",
              "</table>\n",
              "<style type=\"text/css\">\n",
              "</style>\n",
              "<table id=\"T_ff231_\" style='display:inline'>\n",
              "  <caption>workclass</caption>\n",
              "  <thead>\n",
              "    <tr>\n",
              "      <th class=\"blank level0\" >&nbsp;</th>\n",
              "      <th class=\"col_heading level0 col0\" ></th>\n",
              "    </tr>\n",
              "    <tr>\n",
              "      <th class=\"index_name level0\" >workclass</th>\n",
              "      <th class=\"blank col0\" >&nbsp;</th>\n",
              "    </tr>\n",
              "  </thead>\n",
              "  <tbody>\n",
              "    <tr>\n",
              "      <th id=\"T_ff231_level0_row0\" class=\"row_heading level0 row0\" >Self-emp-inc</th>\n",
              "      <td id=\"T_ff231_row0_col0\" class=\"data row0 col0\" >7.457963</td>\n",
              "    </tr>\n",
              "    <tr>\n",
              "      <th id=\"T_ff231_level0_row1\" class=\"row_heading level0 row1\" >Federal-gov</th>\n",
              "      <td id=\"T_ff231_row1_col0\" class=\"data row1 col0\" >5.167190</td>\n",
              "    </tr>\n",
              "    <tr>\n",
              "      <th id=\"T_ff231_level0_row2\" class=\"row_heading level0 row2\" >Local-gov</th>\n",
              "      <td id=\"T_ff231_row2_col0\" class=\"data row2 col0\" >3.933237</td>\n",
              "    </tr>\n",
              "    <tr>\n",
              "      <th id=\"T_ff231_level0_row3\" class=\"row_heading level0 row3\" >Self-emp-not-inc</th>\n",
              "      <td id=\"T_ff231_row3_col0\" class=\"data row3 col0\" >3.814215</td>\n",
              "    </tr>\n",
              "    <tr>\n",
              "      <th id=\"T_ff231_level0_row4\" class=\"row_heading level0 row4\" >State-gov</th>\n",
              "      <td id=\"T_ff231_row4_col0\" class=\"data row4 col0\" >3.590551</td>\n",
              "    </tr>\n",
              "    <tr>\n",
              "      <th id=\"T_ff231_level0_row5\" class=\"row_heading level0 row5\" >Private</th>\n",
              "      <td id=\"T_ff231_row5_col0\" class=\"data row5 col0\" >2.920951</td>\n",
              "    </tr>\n",
              "    <tr>\n",
              "      <th id=\"T_ff231_level0_row6\" class=\"row_heading level0 row6\" >Without-pay</th>\n",
              "      <td id=\"T_ff231_row6_col0\" class=\"data row6 col0\" >nan</td>\n",
              "    </tr>\n",
              "  </tbody>\n",
              "</table>\n",
              "<style type=\"text/css\">\n",
              "</style>\n",
              "<table id=\"T_cd784_\" style='display:inline'>\n",
              "  <caption>marital-status</caption>\n",
              "  <thead>\n",
              "    <tr>\n",
              "      <th class=\"blank level0\" >&nbsp;</th>\n",
              "      <th class=\"col_heading level0 col0\" ></th>\n",
              "    </tr>\n",
              "    <tr>\n",
              "      <th class=\"index_name level0\" >marital-status</th>\n",
              "      <th class=\"blank col0\" >&nbsp;</th>\n",
              "    </tr>\n",
              "  </thead>\n",
              "  <tbody>\n",
              "    <tr>\n",
              "      <th id=\"T_cd784_level0_row0\" class=\"row_heading level0 row0\" >Married-AF-spouse</th>\n",
              "      <td id=\"T_cd784_row0_col0\" class=\"data row0 col0\" >6.357026</td>\n",
              "    </tr>\n",
              "    <tr>\n",
              "      <th id=\"T_cd784_level0_row1\" class=\"row_heading level0 row1\" >Married-civ-spouse</th>\n",
              "      <td id=\"T_cd784_row1_col0\" class=\"data row1 col0\" >6.073592</td>\n",
              "    </tr>\n",
              "    <tr>\n",
              "      <th id=\"T_cd784_level0_row2\" class=\"row_heading level0 row2\" >Divorced</th>\n",
              "      <td id=\"T_cd784_row2_col0\" class=\"data row2 col0\" >1.431915</td>\n",
              "    </tr>\n",
              "    <tr>\n",
              "      <th id=\"T_cd784_level0_row3\" class=\"row_heading level0 row3\" >Widowed</th>\n",
              "      <td id=\"T_cd784_row3_col0\" class=\"data row3 col0\" >1.291391</td>\n",
              "    </tr>\n",
              "    <tr>\n",
              "      <th id=\"T_cd784_level0_row4\" class=\"row_heading level0 row4\" >Married-spouse-absent</th>\n",
              "      <td id=\"T_cd784_row4_col0\" class=\"data row4 col0\" >1.118493</td>\n",
              "    </tr>\n",
              "    <tr>\n",
              "      <th id=\"T_cd784_level0_row5\" class=\"row_heading level0 row5\" >Separated</th>\n",
              "      <td id=\"T_cd784_row5_col0\" class=\"data row5 col0\" >0.938321</td>\n",
              "    </tr>\n",
              "    <tr>\n",
              "      <th id=\"T_cd784_level0_row6\" class=\"row_heading level0 row6\" >Never-married</th>\n",
              "      <td id=\"T_cd784_row6_col0\" class=\"data row6 col0\" >0.645181</td>\n",
              "    </tr>\n",
              "  </tbody>\n",
              "</table>\n",
              "<style type=\"text/css\">\n",
              "</style>\n",
              "<table id=\"T_dc2f2_\" style='display:inline'>\n",
              "  <caption>relationship</caption>\n",
              "  <thead>\n",
              "    <tr>\n",
              "      <th class=\"blank level0\" >&nbsp;</th>\n",
              "      <th class=\"col_heading level0 col0\" ></th>\n",
              "    </tr>\n",
              "    <tr>\n",
              "      <th class=\"index_name level0\" >relationship</th>\n",
              "      <th class=\"blank col0\" >&nbsp;</th>\n",
              "    </tr>\n",
              "  </thead>\n",
              "  <tbody>\n",
              "    <tr>\n",
              "      <th id=\"T_dc2f2_level0_row0\" class=\"row_heading level0 row0\" > Married</th>\n",
              "      <td id=\"T_dc2f2_row0_col0\" class=\"data row0 col0\" >6.134399</td>\n",
              "    </tr>\n",
              "    <tr>\n",
              "      <th id=\"T_dc2f2_level0_row1\" class=\"row_heading level0 row1\" >Not-in-family</th>\n",
              "      <td id=\"T_dc2f2_row1_col0\" class=\"data row1 col0\" >1.422062</td>\n",
              "    </tr>\n",
              "    <tr>\n",
              "      <th id=\"T_dc2f2_level0_row2\" class=\"row_heading level0 row2\" >Unmarried</th>\n",
              "      <td id=\"T_dc2f2_row2_col0\" class=\"data row2 col0\" >0.885273</td>\n",
              "    </tr>\n",
              "    <tr>\n",
              "      <th id=\"T_dc2f2_level0_row3\" class=\"row_heading level0 row3\" >Other-relative</th>\n",
              "      <td id=\"T_dc2f2_row3_col0\" class=\"data row3 col0\" >0.526173</td>\n",
              "    </tr>\n",
              "    <tr>\n",
              "      <th id=\"T_dc2f2_level0_row4\" class=\"row_heading level0 row4\" >Own-child</th>\n",
              "      <td id=\"T_dc2f2_row4_col0\" class=\"data row4 col0\" >0.191309</td>\n",
              "    </tr>\n",
              "  </tbody>\n",
              "</table>\n",
              "<style type=\"text/css\">\n",
              "</style>\n",
              "<table id=\"T_25019_\" style='display:inline'>\n",
              "  <caption>hours_per_week</caption>\n",
              "  <thead>\n",
              "    <tr>\n",
              "      <th class=\"blank level0\" >&nbsp;</th>\n",
              "      <th class=\"col_heading level0 col0\" ></th>\n",
              "    </tr>\n",
              "    <tr>\n",
              "      <th class=\"index_name level0\" >hours_per_week</th>\n",
              "      <th class=\"blank col0\" >&nbsp;</th>\n",
              "    </tr>\n",
              "  </thead>\n",
              "  <tbody>\n",
              "    <tr>\n",
              "      <th id=\"T_25019_level0_row0\" class=\"row_heading level0 row0\" >>50</th>\n",
              "      <td id=\"T_25019_row0_col0\" class=\"data row0 col0\" >5.794306</td>\n",
              "    </tr>\n",
              "    <tr>\n",
              "      <th id=\"T_25019_level0_row1\" class=\"row_heading level0 row1\" >41-50</th>\n",
              "      <td id=\"T_25019_row1_col0\" class=\"data row1 col0\" >3.220994</td>\n",
              "    </tr>\n",
              "    <tr>\n",
              "      <th id=\"T_25019_level0_row2\" class=\"row_heading level0 row2\" >31-40</th>\n",
              "      <td id=\"T_25019_row2_col0\" class=\"data row2 col0\" >1.757181</td>\n",
              "    </tr>\n",
              "    <tr>\n",
              "      <th id=\"T_25019_level0_row3\" class=\"row_heading level0 row3\" >21-30</th>\n",
              "      <td id=\"T_25019_row3_col0\" class=\"data row3 col0\" >0.881343</td>\n",
              "    </tr>\n",
              "    <tr>\n",
              "      <th id=\"T_25019_level0_row4\" class=\"row_heading level0 row4\" >0-20</th>\n",
              "      <td id=\"T_25019_row4_col0\" class=\"data row4 col0\" >0.840614</td>\n",
              "    </tr>\n",
              "  </tbody>\n",
              "</table>\n"
            ]
          },
          "metadata": {},
          "output_type": "display_data"
        }
      ],
      "source": [
        "effort_score = {} #education, marital status, workclass, occupation, relationship\n",
        "dict_edu = {}\n",
        "def effort_dict(adults_df,col):\n",
        "  val_50K=adults_df[adults_df.result==1].groupby(col).result.describe()['count'].rename('o', inplace=True).apply(int)\n",
        "  #print(\"val_50k:\", val_50K)\n",
        "  val_tot=adults_df.groupby(col).result.describe()['count'].rename('o', inplace=True).apply(int)\n",
        "  #print(\"val_tot:\",val_tot)\n",
        "  ratio = (val_50K/val_tot).sort_values(ascending=False)\n",
        "  #effort_wc=np.round(max_score*ratio/ratio[0],2)\n",
        "  return ratio\n",
        "\n",
        "\n",
        "effort_score ={effort_col : effort_dict(adults_df,effort_col) for effort_col in features_categorical_ns}\n",
        "#display(effort_score)\n",
        "\n",
        "\n",
        "best = 0\n",
        "for effort_col in features_categorical_ns:\n",
        "  best = max(best,effort_score[effort_col][0])\n",
        "  #print(effort_score[effort_col][0])\n",
        "  #print('best:',best)\n",
        "\n",
        "for effort_col in features_categorical_ns:\n",
        "  effort_score[effort_col] = effort_score[effort_col]/best*10\n",
        "  #print('effort_score:',effort_score )\n",
        "#this step is removed because it is methodologically inconsistent with how scores are otherwise calculated\n",
        "#for edu_num,edu in zip (adults_df['education'].unique(),adults_df['education-num'].unique()):\n",
        "#print(f'{edu_num}\\t{edu}')\n",
        "#dict_edu[edu] = edu_num\n",
        "#effort_score['education'] = dict_edu\n",
        "\n",
        "score_dataframe={}\n",
        "df_styler={}\n",
        "for col in features_categorical_ns:\n",
        "  score_dataframe[col]=pd.DataFrame.from_dict(effort_score[col])\n",
        "  score_dataframe[col].columns=['']\n",
        "  #print('score_dataframe',score_dataframe['marital-status'])\n",
        "  df_styler[col] = score_dataframe[col].style.set_table_attributes(\"style='display:inline'\").set_caption(col)\n",
        "display_html(df_styler['education']._repr_html_()+df_styler['occupation']._repr_html_()+df_styler['workclass']._repr_html_()+df_styler['marital-status']._repr_html_()+df_styler['relationship']._repr_html_()+df_styler['hours_per_week']._repr_html_(),raw=True)"
      ],
      "id": "39b03af3-d4fe-486b-938b-9fe92df4b168"
    },
    {
      "cell_type": "markdown",
      "metadata": {
        "id": "7105c4e4-940d-489d-9a58-08bb07a3a27a"
      },
      "source": [
        "## Sum of scores"
      ],
      "id": "7105c4e4-940d-489d-9a58-08bb07a3a27a"
    },
    {
      "cell_type": "code",
      "execution_count": null,
      "metadata": {
        "id": "2a9660ea-f3df-4c17-ae36-88f05b412697"
      },
      "outputs": [],
      "source": [
        "'''\n",
        "tmp = pd.Series([0 for _ in range(len(adults_df))], index = adults_df.index)\n",
        "for f in features_categorical_ns:\n",
        "  tmp = tmp.add(adults_df[f].apply(lambda x: float(score_dataframe[f].loc[x])), fill_value=0)\n",
        "adults_df['Sum_of_Score']=tmp\n",
        "'''"
      ],
      "id": "2a9660ea-f3df-4c17-ae36-88f05b412697"
    },
    {
      "cell_type": "code",
      "execution_count": null,
      "metadata": {
        "id": "6d7517aa-f113-4b6f-baec-1c9df49aeaa8"
      },
      "outputs": [],
      "source": [
        "'''\n",
        "def Sum_Of_Score(score):\n",
        "   if score<10:\n",
        "    score_range = '0-10'\n",
        "   elif score<15:\n",
        "    score_range = '11-15'\n",
        "   elif score<20:\n",
        "    score_range = '16-20'\n",
        "   elif score<25:\n",
        "    score_range = '21-25'\n",
        "   elif score<30:\n",
        "    score_range = '26-30'\n",
        "   else:\n",
        "    score_range = '>30'\n",
        "   return score_range\n",
        "adults_df['Sum_of_Score_g'] = adults_df.Sum_of_Score.apply(Sum_Of_Score)\n",
        "\n",
        "display(adults_df)\n",
        "'''"
      ],
      "id": "6d7517aa-f113-4b6f-baec-1c9df49aeaa8"
    },
    {
      "cell_type": "markdown",
      "metadata": {
        "id": "53ed6c0b-ee67-4c9e-82db-f9fbfa5b7abd"
      },
      "source": [
        "# Model"
      ],
      "id": "53ed6c0b-ee67-4c9e-82db-f9fbfa5b7abd"
    },
    {
      "cell_type": "markdown",
      "metadata": {
        "id": "870104f9-02a6-492c-a40c-66eaf4d1ca05"
      },
      "source": [
        "## Baseline Models (Random and Majority Classifier)"
      ],
      "id": "870104f9-02a6-492c-a40c-66eaf4d1ca05"
    },
    {
      "cell_type": "code",
      "execution_count": null,
      "metadata": {
        "colab": {
          "base_uri": "https://localhost:8080/"
        },
        "id": "b64e216b-f3c4-4a67-bd7a-f8377b683783",
        "outputId": "6693be45-b325-4b4f-a14f-56a66d15fc0f"
      },
      "outputs": [
        {
          "name": "stdout",
          "output_type": "stream",
          "text": [
            "[0 1 1 0 1]\n"
          ]
        }
      ],
      "source": [
        "from sklearn.base import BaseEstimator, ClassifierMixin, RegressorMixin\n",
        "import random\n",
        "\n",
        "class RandomClassifier(BaseEstimator, ClassifierMixin):\n",
        "    np.random.seed(0)\n",
        "\n",
        "    def __init__(self):\n",
        "        pass\n",
        "\n",
        "    def fit(self, X, y=None):\n",
        "        pass\n",
        "    \n",
        "    def predict(self, X, y=None):\n",
        "        return np.random.randint(2, size=X.shape[0])\n",
        "    \n",
        "    def predict_proba(self, X, y=None):\n",
        "        out = np.random.randint(2, size=X.shape[0])\n",
        "        proba = [[[1, 0], [0, 1]][i] for i in out]\n",
        "        return np.array(proba)\n",
        "        \n",
        "        \n",
        "r = RandomClassifier()\n",
        "r.fit(np.array([1,2,3,4,5]), np.array([0, 0, 1, 1, 1]))\n",
        "print(r.predict(np.array([1, 2, 3, 4, 5])))\n",
        "\n",
        "\n",
        "class MajorityClassifier(BaseEstimator, ClassifierMixin):\n",
        "\n",
        "    def __init__(self, majority_feature='sex', majority_value='male', qual = False):\n",
        "        self.majority_feature = majority_feature\n",
        "        self.majority_value = majority_value\n",
        "        self.targets = [0, 1]\n",
        "        self.qual = qual\n",
        "\n",
        "    def fit(self, X, y=None):\n",
        "        pass\n",
        "    \n",
        "    def qual_weight(self, qual_v, base):\n",
        "        \n",
        "        return int(qual_v < base), int(qual_v >= base)\n",
        "    \n",
        "    def get_qualification(self, X):\n",
        "        tmp = pd.Series([0 for _ in range(len(X))], index = X.index)\n",
        "        for f in features_categorical_ns:\n",
        "          tmp = tmp.add(X[f].apply(lambda x: float(score_dataframe[f].loc[x])), fill_value=0)\n",
        "        return tmp\n",
        "    \n",
        "    def predict(self, X, y=None):\n",
        "        \n",
        "        # Measure qualification again\n",
        "        X.loc[:, 'Sum_of_Score'] = self.get_qualification(X) \n",
        "        \n",
        "        if self.qual:\n",
        "            predict = X[[self.majority_feature]].apply(lambda x: self.qual_weight(X['Sum_of_Score'][x.name], 15) if x[0]==self.majority_value else list(self.qual_weight(X['Sum_of_Score'][x.name], 20)), axis = 1)\n",
        "            predict = predict.apply(lambda x: np.argmax(x))\n",
        "        else:\n",
        "            predict = X[self.majority_feature].apply(lambda x: random.choices(self.targets, weights=(20, 80), k=1)[0] if x==self.majority_value else random.choices(self.targets, weights=(80, 20), k=1)[0])\n",
        "        return predict.to_numpy()\n",
        "    \n",
        "    def predict_proba(self, X, y=None):\n",
        "        \n",
        "        # Measure qualification again\n",
        "        X.loc[:, 'Sum_of_Score'] = self.get_qualification(X) \n",
        "        \n",
        "        if self.qual:\n",
        "            proba = X[[self.majority_feature]].apply(lambda x: list(self.qual_weight(X['Sum_of_Score'][x.name], 15)) if x[0]==self.majority_value else list(self.qual_weight(X['Sum_of_Score'][x.name], 20)), axis = 1)\n",
        "            proba = list(map(list, proba))\n",
        "        else:\n",
        "            predict = X[self.majority_feature].apply(lambda x: random.choices(self.targets, weights=(20, 80), k=1)[0] if x==self.majority_value else random.choices(self.targets, weights=(80, 20), k=1)[0])\n",
        "            proba = [[[1, 0], [0, 1]][i] for i in predict]\n",
        "        return np.array(proba)\n",
        "        \n",
        "\n",
        "#r = MajorityClassifier(majority_feature='Sex', majority_value='Male')\n",
        "#r.fit(pd.DataFrame({'Sex': ['Male', 'Male', 'Male', 'Male', 'Male', 'Male', 'Male']}), np.array([0, 0, 1, 1, 1, 1, 1]))\n",
        "#print(r.predict(pd.DataFrame({'Sex': ['Male', 'Male', 'Male', 'Male', 'Male', 'Male', 'Male']})))\n"
      ],
      "id": "b64e216b-f3c4-4a67-bd7a-f8377b683783"
    },
    {
      "cell_type": "markdown",
      "metadata": {
        "id": "lwHeVZiiLUK3"
      },
      "source": [
        "## Save Datasets"
      ],
      "id": "lwHeVZiiLUK3"
    },
    {
      "cell_type": "code",
      "execution_count": null,
      "metadata": {
        "id": "YL7JAevXKmWU"
      },
      "outputs": [],
      "source": [
        "'''\n",
        "#target = adults_df.result\n",
        "#train_dataset, test_dataset, y_train, y_test = sklearn.model_selection.train_test_split(adults_df,target,test_size=0.2,random_state=0,stratify=target)\n",
        "All_Datasets={'train_dataset':train_dataset,'test_dataset':test_dataset,'y_train':y_train,'y_test':y_test}\n",
        "path='/content/drive/My Drive/DATASET/All_Datasets.pkl'\n",
        "with open(path, 'wb') as f:\n",
        "    pickle.dump(All_Datasets, f)\n",
        "'''"
      ],
      "id": "YL7JAevXKmWU"
    },
    {
      "cell_type": "markdown",
      "metadata": {
        "id": "G03YlQAKLXjE"
      },
      "source": [
        "## Load Datasets"
      ],
      "id": "G03YlQAKLXjE"
    },
    {
      "cell_type": "code",
      "execution_count": null,
      "metadata": {
        "colab": {
          "base_uri": "https://localhost:8080/"
        },
        "id": "P8mKRUuoLQpI",
        "outputId": "6c69e24b-98d9-4f44-cd09-5dada4ede1bf"
      },
      "outputs": [
        {
          "name": "stdout",
          "output_type": "stream",
          "text": [
            "Mounted at /content/drive\n"
          ]
        }
      ],
      "source": [
        "import pickle\n",
        "from google.colab import drive\n",
        "drive.mount('/content/drive')\n",
        "path='/content/drive/My Drive/DATASET/All_Datasets.pkl'\n",
        "with open(path, 'rb') as f:\n",
        "    All_Datasets=pickle.load(f)"
      ],
      "id": "P8mKRUuoLQpI"
    },
    {
      "cell_type": "markdown",
      "metadata": {
        "id": "385f3055-a8f6-401a-8894-95b3b224ae21"
      },
      "source": [
        "## Train models"
      ],
      "id": "385f3055-a8f6-401a-8894-95b3b224ae21"
    },
    {
      "cell_type": "code",
      "execution_count": null,
      "metadata": {
        "id": "998bef7c-65e0-46ca-b4c4-a5f42a35df80"
      },
      "outputs": [],
      "source": [
        "# Train test split\n",
        "\n",
        "#target = adults_df.result\n",
        "train_dataset, test_dataset, y_train, y_test = All_Datasets['train_dataset'], All_Datasets['test_dataset'], All_Datasets['y_train'], All_Datasets['y_test']\n",
        "y_train = train_dataset['result'].reset_index(drop=True) \n",
        "x_train = train_dataset.drop(['result'], axis=1)\n",
        "y_test = test_dataset['result'].reset_index(drop=True) \n",
        "x_test = test_dataset.drop(['result'], axis=1)\n",
        "x_test = x_test.reset_index(drop=True)"
      ],
      "id": "998bef7c-65e0-46ca-b4c4-a5f42a35df80"
    },
    {
      "cell_type": "code",
      "execution_count": null,
      "metadata": {
        "id": "74409d94-b9af-4459-bb72-0a147c149a31"
      },
      "outputs": [],
      "source": [
        "'''\n",
        "algnames = ['Random Forest',\n",
        "            'Decision Tree',\n",
        "            'K-Nearest Neighbor',\n",
        "            'Neural Net',\n",
        "            'SVM',\n",
        "            'Adaboost',\n",
        "            'Random', \n",
        "            'Majority Male', \n",
        "            'Majority White']\n",
        "\n",
        "algos = [RandomForestClassifier(n_jobs=2),\n",
        "         DecisionTreeClassifier(),\n",
        "         KNeighborsClassifier(),\n",
        "         MLPClassifier(alpha=1, max_iter=1000),\n",
        "         svm.SVC(probability=True),\n",
        "         AdaBoostClassifier(),\n",
        "         RandomClassifier(), \n",
        "         MajorityClassifier(majority_feature='sex', majority_value='Male', qual = True), \n",
        "         MajorityClassifier(majority_feature='race', majority_value='White', qual = True)\n",
        "]\n",
        "'''\n",
        "algnames=['Majority Male', \n",
        "            'Majority White']\n",
        "algos=[MajorityClassifier(majority_feature='sex', majority_value='Male', qual = True), \n",
        "         MajorityClassifier(majority_feature='race', majority_value='White', qual = True)    ]        "
      ],
      "id": "74409d94-b9af-4459-bb72-0a147c149a31"
    },
    {
      "cell_type": "code",
      "execution_count": null,
      "metadata": {
        "colab": {
          "base_uri": "https://localhost:8080/"
        },
        "id": "4a2ff66f-c630-4640-8d4d-04acb94d6d0a",
        "outputId": "e2acfe59-fe18-4d3d-f717-590655074946"
      },
      "outputs": [
        {
          "name": "stdout",
          "output_type": "stream",
          "text": [
            "Majority Male\n",
            "Majority White\n"
          ]
        }
      ],
      "source": [
        "categorical_transformer = Pipeline(steps=[('onehot', OneHotEncoder(handle_unknown='ignore'))])\n",
        "transformations = ColumnTransformer(transformers=[('cat', categorical_transformer, features_categorical[:-1])])\n",
        "\n",
        "def GeneratePipeline(classifier, name, transformations):\n",
        "    \n",
        "  print(name)\n",
        "  if name in ['Random', 'Majority Male', 'Majority White']:\n",
        "    clf = Pipeline(steps=[('classifier', classifier)])\n",
        "    \n",
        "  else:\n",
        "      clf = Pipeline(steps=[('preprocessor', transformations),\n",
        "                      ('classifier', classifier)])\n",
        "  return clf\n",
        "\n",
        "def TrainModels(x,y,clf):\n",
        "  model=clf.fit(x, y.astype('int'))\n",
        "  dice_model = dice_ml.Model(model=model, backend=\"sklearn\")\n",
        "  return model,dice_model\n",
        "\n",
        "clf_dict = {}\n",
        "model = {}\n",
        "dice_model = {}\n",
        "\n",
        "for classifier,name in zip(algos,algnames):\n",
        "  clf_dict[name] = GeneratePipeline(classifier, name, transformations)\n",
        "  model[name],dice_model[name] = TrainModels(x_train,y_train,clf_dict[name])"
      ],
      "id": "4a2ff66f-c630-4640-8d4d-04acb94d6d0a"
    },
    {
      "cell_type": "code",
      "execution_count": null,
      "metadata": {
        "colab": {
          "base_uri": "https://localhost:8080/"
        },
        "id": "u8Ou7nw1NlIa",
        "outputId": "15b951f7-ce5f-4742-e695-584bef1ae671"
      },
      "outputs": [
        {
          "data": {
            "text/plain": [
              "15.664145010537107"
            ]
          },
          "execution_count": 20,
          "metadata": {},
          "output_type": "execute_result"
        }
      ],
      "source": [
        "x_test[x_test.sex==\"Female\"].Sum_of_Score.mean()"
      ],
      "id": "u8Ou7nw1NlIa"
    },
    {
      "cell_type": "markdown",
      "metadata": {
        "id": "2250184b-2d78-46a8-9b3b-4de6930172ff"
      },
      "source": [
        "## Dice"
      ],
      "id": "2250184b-2d78-46a8-9b3b-4de6930172ff"
    },
    {
      "cell_type": "code",
      "execution_count": null,
      "metadata": {
        "id": "c944ec53-8770-4319-a90a-621565751109"
      },
      "outputs": [],
      "source": [
        "d = dice_ml.Data(dataframe=train_dataset, continuous_features=['capital-loss', 'capital-gain'], outcome_name='result')\n",
        "exp = {} #dictionary containing the models to generate the counterfactuals\n",
        "y_out = {}\n",
        "for name in algnames:\n",
        "  exp[name] = dice_ml.Dice(d, dice_model[name])\n",
        "  y_out[name] = pd.Series(clf_dict[name].predict(x_test)).apply(int).sort_index()"
      ],
      "id": "c944ec53-8770-4319-a90a-621565751109"
    },
    {
      "cell_type": "markdown",
      "metadata": {
        "id": "f0b745b6-9535-421c-9265-3a76074b385a"
      },
      "source": [
        "## Get All negative predictions for each algo\n",
        "\n",
        "\n",
        "\n"
      ],
      "id": "f0b745b6-9535-421c-9265-3a76074b385a"
    },
    {
      "cell_type": "code",
      "execution_count": null,
      "metadata": {
        "colab": {
          "base_uri": "https://localhost:8080/"
        },
        "id": "f5e5d913-7e99-4c65-8104-47761ee87833",
        "outputId": "8fe5dec2-7062-4f7a-ab83-cfd0d3b3b599"
      },
      "outputs": [
        {
          "name": "stdout",
          "output_type": "stream",
          "text": [
            "Majority Male 2882\n",
            "Majority White 2468\n"
          ]
        },
        {
          "name": "stderr",
          "output_type": "stream",
          "text": [
            "/usr/local/lib/python3.7/dist-packages/ipykernel_launcher.py:2: DeprecationWarning: The default dtype for empty Series will be 'object' instead of 'float64' in a future version. Specify a dtype explicitly to silence this warning.\n",
            "  \n"
          ]
        }
      ],
      "source": [
        "negative_test_x = {name : pd.DataFrame() for name in algnames}\n",
        "negative_test_y = {name : pd.Series() for name in algnames}\n",
        "\n",
        "for name in algnames:\n",
        "    negative_test_x[name] = x_test[y_out[name].apply(int) == 0]\n",
        "    negative_test_y[name] = y_test[y_out[name].apply(int) == 0]\n",
        "    print(name, len(negative_test_y[name]))"
      ],
      "id": "f5e5d913-7e99-4c65-8104-47761ee87833"
    },
    {
      "cell_type": "code",
      "execution_count": null,
      "metadata": {
        "colab": {
          "base_uri": "https://localhost:8080/",
          "height": 130
        },
        "id": "ntkkd3yFOuN8",
        "outputId": "3cf67848-2530-42af-e31c-fc0648d20c9a"
      },
      "outputs": [
        {
          "ename": "SyntaxError",
          "evalue": "ignored",
          "output_type": "error",
          "traceback": [
            "\u001b[0;36m  File \u001b[0;32m\"<ipython-input-30-a81af5bc8095>\"\u001b[0;36m, line \u001b[0;32m3\u001b[0m\n\u001b[0;31m    print(x)\u001b[0m\n\u001b[0m        ^\u001b[0m\n\u001b[0;31mSyntaxError\u001b[0m\u001b[0;31m:\u001b[0m invalid syntax\n"
          ]
        }
      ],
      "source": [
        "fig, ax = plt.subplots(figsize=(12, 8))\n",
        "x = np.arange(len(train_dataset.result.unique())\n",
        "print(x)\n",
        "# Define bar width. We'll use this to offset the second bar.\n",
        "#bar_width == 0.4\n",
        "\n",
        "# Note we add the `width` parameter now which sets the width of each bar.\n",
        "b1 = ax.bar(x, train_dataset.loc[train_dataset['sex'] == 'Male', 'count'],\n",
        "            width=bar_width)\n",
        "# Same thing, but offset the x by the width of the bar.\n",
        "b2 = ax.bar(x + bar_width, train_dataset.loc[train_dataset['sex'] == 'Female', 'count'],\n",
        "            width=bar_width)"
      ],
      "id": "ntkkd3yFOuN8"
    },
    {
      "cell_type": "code",
      "execution_count": null,
      "metadata": {
        "colab": {
          "base_uri": "https://localhost:8080/"
        },
        "id": "gZPA0axe8-2q",
        "outputId": "55e52f4f-7c7e-4c7f-fbd8-c7f59bcdafdb"
      },
      "outputs": [
        {
          "name": "stdout",
          "output_type": "stream",
          "text": [
            "Majority Male Male 11.515905983285597\n",
            "Majority Male Female 15.151811245748732\n",
            "Majority White Male 13.709122146549868\n",
            "Majority White Female 12.145418172939209\n"
          ]
        }
      ],
      "source": [
        "for name in algnames:\n",
        "  for sex in [\"Male\",\"Female\"]:\n",
        "      samp=negative_test_x[name][negative_test_x[name].sex==sex].Sum_of_Score.mean()\n",
        "      print(name,sex,samp)"
      ],
      "id": "gZPA0axe8-2q"
    },
    {
      "cell_type": "markdown",
      "metadata": {
        "id": "25def7c9-f5d5-41ee-a6db-88881229d1e8"
      },
      "source": [
        "# Fairness Baselines"
      ],
      "id": "25def7c9-f5d5-41ee-a6db-88881229d1e8"
    },
    {
      "cell_type": "markdown",
      "metadata": {
        "id": "7832c616-d8c3-404c-9c91-05097fb8e837"
      },
      "source": [
        "## Accuracy and statistial parity\n",
        "\n",
        "At the end, we have some numbers, we can get correlation of these numbers with the KL divergence and see their relationship\n",
        "\n",
        "We will show how our method is related to statistical parity "
      ],
      "id": "7832c616-d8c3-404c-9c91-05097fb8e837"
    },
    {
      "cell_type": "code",
      "execution_count": null,
      "metadata": {
        "colab": {
          "base_uri": "https://localhost:8080/"
        },
        "id": "782a73d2-22bc-4d0d-be53-9f46674ad2d3",
        "outputId": "d4ec29b8-b3dc-4ffc-f64a-180166e5c34c"
      },
      "outputs": [
        {
          "name": "stdout",
          "output_type": "stream",
          "text": [
            "The accuracy for Majority Male is 66.6%\n",
            "The accuracy for Majority White is 61.6%\n"
          ]
        }
      ],
      "source": [
        "for name in algnames:\n",
        "  acc = sklearn.metrics.accuracy_score(y_test.apply(int), y_out[name].apply(int))\n",
        "  print(f'The accuracy for {name} is {acc*100:.1f}%')"
      ],
      "id": "782a73d2-22bc-4d0d-be53-9f46674ad2d3"
    },
    {
      "cell_type": "code",
      "execution_count": null,
      "metadata": {
        "colab": {
          "base_uri": "https://localhost:8080/"
        },
        "id": "2813320a-7f44-4848-8d13-860046e21823",
        "outputId": "71e5a5f7-23ee-41f6-f9ce-5d4face6e1ea"
      },
      "outputs": [
        {
          "name": "stderr",
          "output_type": "stream",
          "text": [
            "/usr/local/lib/python3.7/dist-packages/pandas/core/indexing.py:1773: SettingWithCopyWarning: \n",
            "A value is trying to be set on a copy of a slice from a DataFrame.\n",
            "Try using .loc[row_indexer,col_indexer] = value instead\n",
            "\n",
            "See the caveats in the documentation: https://pandas.pydata.org/pandas-docs/stable/user_guide/indexing.html#returning-a-view-versus-a-copy\n",
            "  self._setitem_single_column(ilocs[0], value, pi)\n",
            "/usr/local/lib/python3.7/dist-packages/pandas/core/indexing.py:1773: SettingWithCopyWarning: \n",
            "A value is trying to be set on a copy of a slice from a DataFrame.\n",
            "Try using .loc[row_indexer,col_indexer] = value instead\n",
            "\n",
            "See the caveats in the documentation: https://pandas.pydata.org/pandas-docs/stable/user_guide/indexing.html#returning-a-view-versus-a-copy\n",
            "  self._setitem_single_column(ilocs[0], value, pi)\n",
            "/usr/local/lib/python3.7/dist-packages/pandas/core/indexing.py:1773: SettingWithCopyWarning: \n",
            "A value is trying to be set on a copy of a slice from a DataFrame.\n",
            "Try using .loc[row_indexer,col_indexer] = value instead\n",
            "\n",
            "See the caveats in the documentation: https://pandas.pydata.org/pandas-docs/stable/user_guide/indexing.html#returning-a-view-versus-a-copy\n",
            "  self._setitem_single_column(ilocs[0], value, pi)\n",
            "/usr/local/lib/python3.7/dist-packages/pandas/core/indexing.py:1773: SettingWithCopyWarning: \n",
            "A value is trying to be set on a copy of a slice from a DataFrame.\n",
            "Try using .loc[row_indexer,col_indexer] = value instead\n",
            "\n",
            "See the caveats in the documentation: https://pandas.pydata.org/pandas-docs/stable/user_guide/indexing.html#returning-a-view-versus-a-copy\n",
            "  self._setitem_single_column(ilocs[0], value, pi)\n",
            "/usr/local/lib/python3.7/dist-packages/pandas/core/indexing.py:1773: SettingWithCopyWarning: \n",
            "A value is trying to be set on a copy of a slice from a DataFrame.\n",
            "Try using .loc[row_indexer,col_indexer] = value instead\n",
            "\n",
            "See the caveats in the documentation: https://pandas.pydata.org/pandas-docs/stable/user_guide/indexing.html#returning-a-view-versus-a-copy\n",
            "  self._setitem_single_column(ilocs[0], value, pi)\n",
            "/usr/local/lib/python3.7/dist-packages/pandas/core/indexing.py:1773: SettingWithCopyWarning: \n",
            "A value is trying to be set on a copy of a slice from a DataFrame.\n",
            "Try using .loc[row_indexer,col_indexer] = value instead\n",
            "\n",
            "See the caveats in the documentation: https://pandas.pydata.org/pandas-docs/stable/user_guide/indexing.html#returning-a-view-versus-a-copy\n",
            "  self._setitem_single_column(ilocs[0], value, pi)\n",
            "/usr/local/lib/python3.7/dist-packages/pandas/core/indexing.py:1773: SettingWithCopyWarning: \n",
            "A value is trying to be set on a copy of a slice from a DataFrame.\n",
            "Try using .loc[row_indexer,col_indexer] = value instead\n",
            "\n",
            "See the caveats in the documentation: https://pandas.pydata.org/pandas-docs/stable/user_guide/indexing.html#returning-a-view-versus-a-copy\n",
            "  self._setitem_single_column(ilocs[0], value, pi)\n",
            "/usr/local/lib/python3.7/dist-packages/pandas/core/indexing.py:1773: SettingWithCopyWarning: \n",
            "A value is trying to be set on a copy of a slice from a DataFrame.\n",
            "Try using .loc[row_indexer,col_indexer] = value instead\n",
            "\n",
            "See the caveats in the documentation: https://pandas.pydata.org/pandas-docs/stable/user_guide/indexing.html#returning-a-view-versus-a-copy\n",
            "  self._setitem_single_column(ilocs[0], value, pi)\n",
            "/usr/local/lib/python3.7/dist-packages/pandas/core/indexing.py:1773: SettingWithCopyWarning: \n",
            "A value is trying to be set on a copy of a slice from a DataFrame.\n",
            "Try using .loc[row_indexer,col_indexer] = value instead\n",
            "\n",
            "See the caveats in the documentation: https://pandas.pydata.org/pandas-docs/stable/user_guide/indexing.html#returning-a-view-versus-a-copy\n",
            "  self._setitem_single_column(ilocs[0], value, pi)\n",
            "/usr/local/lib/python3.7/dist-packages/pandas/core/indexing.py:1773: SettingWithCopyWarning: \n",
            "A value is trying to be set on a copy of a slice from a DataFrame.\n",
            "Try using .loc[row_indexer,col_indexer] = value instead\n",
            "\n",
            "See the caveats in the documentation: https://pandas.pydata.org/pandas-docs/stable/user_guide/indexing.html#returning-a-view-versus-a-copy\n",
            "  self._setitem_single_column(ilocs[0], value, pi)\n",
            "/usr/local/lib/python3.7/dist-packages/pandas/core/indexing.py:1773: SettingWithCopyWarning: \n",
            "A value is trying to be set on a copy of a slice from a DataFrame.\n",
            "Try using .loc[row_indexer,col_indexer] = value instead\n",
            "\n",
            "See the caveats in the documentation: https://pandas.pydata.org/pandas-docs/stable/user_guide/indexing.html#returning-a-view-versus-a-copy\n",
            "  self._setitem_single_column(ilocs[0], value, pi)\n",
            "/usr/local/lib/python3.7/dist-packages/pandas/core/indexing.py:1773: SettingWithCopyWarning: \n",
            "A value is trying to be set on a copy of a slice from a DataFrame.\n",
            "Try using .loc[row_indexer,col_indexer] = value instead\n",
            "\n",
            "See the caveats in the documentation: https://pandas.pydata.org/pandas-docs/stable/user_guide/indexing.html#returning-a-view-versus-a-copy\n",
            "  self._setitem_single_column(ilocs[0], value, pi)\n",
            "/usr/local/lib/python3.7/dist-packages/pandas/core/indexing.py:1773: SettingWithCopyWarning: \n",
            "A value is trying to be set on a copy of a slice from a DataFrame.\n",
            "Try using .loc[row_indexer,col_indexer] = value instead\n",
            "\n",
            "See the caveats in the documentation: https://pandas.pydata.org/pandas-docs/stable/user_guide/indexing.html#returning-a-view-versus-a-copy\n",
            "  self._setitem_single_column(ilocs[0], value, pi)\n",
            "/usr/local/lib/python3.7/dist-packages/pandas/core/indexing.py:1773: SettingWithCopyWarning: \n",
            "A value is trying to be set on a copy of a slice from a DataFrame.\n",
            "Try using .loc[row_indexer,col_indexer] = value instead\n",
            "\n",
            "See the caveats in the documentation: https://pandas.pydata.org/pandas-docs/stable/user_guide/indexing.html#returning-a-view-versus-a-copy\n",
            "  self._setitem_single_column(ilocs[0], value, pi)\n"
          ]
        }
      ],
      "source": [
        "sexes = ['Male', 'Female']\n",
        "races = ['White', 'Black', 'Asian-Pac-Islander', 'Amer-Indian-Eskimo', 'Other']\n",
        "\n",
        "sp_alg = {'Random Forest':        {'Sex': {'Male':0, 'Female':0}, 'Race': {'White':0, 'Black':0, 'Asian-Pac-Islander':0, 'Amer-Indian-Eskimo':0, 'Other':0}},\n",
        "            'Decision Tree':      {'Sex': {'Male':0, 'Female':0}, 'Race': {'White':0, 'Black':0, 'Asian-Pac-Islander':0, 'Amer-Indian-Eskimo':0, 'Other':0}},\n",
        "            'K-Nearest Neighbor': {'Sex': {'Male':0, 'Female':0}, 'Race': {'White':0, 'Black':0, 'Asian-Pac-Islander':0, 'Amer-Indian-Eskimo':0, 'Other':0}},\n",
        "            'Neural Net':         {'Sex': {'Male':0, 'Female':0}, 'Race': {'White':0, 'Black':0, 'Asian-Pac-Islander':0, 'Amer-Indian-Eskimo':0, 'Other':0}},\n",
        "            'SVM':                {'Sex': {'Male':0, 'Female':0}, 'Race': {'White':0, 'Black':0, 'Asian-Pac-Islander':0, 'Amer-Indian-Eskimo':0, 'Other':0}},\n",
        "            'Adaboost':           {'Sex': {'Male':0, 'Female':0}, 'Race': {'White':0, 'Black':0, 'Asian-Pac-Islander':0, 'Amer-Indian-Eskimo':0, 'Other':0}},\n",
        "            'Random':             {'Sex': {'Male':0, 'Female':0}, 'Race': {'White':0, 'Black':0, 'Asian-Pac-Islander':0, 'Amer-Indian-Eskimo':0, 'Other':0}},\n",
        "            'Majority Male':      {'Sex': {'Male':0, 'Female':0}, 'Race': {'White':0, 'Black':0, 'Asian-Pac-Islander':0, 'Amer-Indian-Eskimo':0, 'Other':0}},\n",
        "            'Majority White':     {'Sex': {'Male':0, 'Female':0}, 'Race': {'White':0, 'Black':0, 'Asian-Pac-Islander':0, 'Amer-Indian-Eskimo':0, 'Other':0}}\n",
        "         }\n",
        "\n",
        "# SEX STATISTICAL PARITY\n",
        "for sex in sexes:  \n",
        "    \n",
        "    tmp_test_x = x_test[x_test['sex']==sex]\n",
        "    tmp_test_y = y_test[x_test['sex']==sex]\n",
        "    \n",
        "    for name in algnames:\n",
        "      prediction = model[name].predict(tmp_test_x) # Prediction for each sensitive group\n",
        "      tn, fp, fn, tp = confusion_matrix(tmp_test_y.astype(int), prediction.astype(int)).ravel()\n",
        "      sp_alg[name]['Sex'][sex] = (tp+fp)/(tp+fp+tn+fn)\n",
        "    \n",
        "# RACE STATISTICAL PARITY    \n",
        "for race in races:\n",
        "    \n",
        "    tmp_test_x = x_test[x_test['race']==race]\n",
        "    tmp_test_y = y_test[x_test['race']==race]\n",
        "    \n",
        "    for name in algnames:\n",
        "      prediction = model[name].predict(tmp_test_x) # Prediction for each sensitive group\n",
        "      tn, fp, fn, tp = confusion_matrix(tmp_test_y.astype(int), prediction.astype(int)).ravel()\n",
        "      sp_alg[name]['Race'][race] = (tp+fp)/(tp+fp+tn+fn)\n",
        "        \n",
        "#sp_alg"
      ],
      "id": "2813320a-7f44-4848-8d13-860046e21823"
    },
    {
      "cell_type": "code",
      "execution_count": null,
      "metadata": {
        "id": "c95d5362-05ca-4b5c-bab9-d500ac9b9513"
      },
      "outputs": [],
      "source": [
        "plt.figure(figsize=(20, 1))\n",
        "for idx, name in enumerate(algnames):\n",
        "    plt.subplot(1, 9, idx+1)\n",
        "    plt.title(name)\n",
        "    plt.barh(list(sp_alg[name]['Sex'].keys()), list(sp_alg[name]['Sex'].values()))\n",
        "    if idx != 0:\n",
        "        plt.yticks([])\n",
        "    plt.xlim([0, 1])"
      ],
      "id": "c95d5362-05ca-4b5c-bab9-d500ac9b9513"
    },
    {
      "cell_type": "code",
      "execution_count": null,
      "metadata": {
        "id": "c5165913-b8fc-4047-ae58-ddeea0bc0239"
      },
      "outputs": [],
      "source": [
        "plt.figure(figsize=(20, 3))\n",
        "for idx, name in enumerate(algnames):\n",
        "    plt.subplot(1, 9, idx+1)\n",
        "    plt.title(name)\n",
        "    plt.barh(list(sp_alg[name]['Race'].keys()), list(sp_alg[name]['Race'].values()))\n",
        "    if idx != 0:\n",
        "        plt.yticks([])\n",
        "    plt.xlim([0, 1])"
      ],
      "id": "c5165913-b8fc-4047-ae58-ddeea0bc0239"
    },
    {
      "cell_type": "markdown",
      "metadata": {
        "id": "t12yTjd4Smc-"
      },
      "source": [
        "#### Conditional statistical parity"
      ],
      "id": "t12yTjd4Smc-"
    },
    {
      "cell_type": "code",
      "execution_count": null,
      "metadata": {
        "id": "046cd75b-e742-4518-b04a-43401b42c0f4"
      },
      "outputs": [],
      "source": [
        "def CSP(sum_of_score = ''):\n",
        "\n",
        "    sexes = ['Male', 'Female']\n",
        "    races = ['White', 'Black', 'Asian-Pac-Islander', 'Amer-Indian-Eskimo', 'Other']\n",
        "\n",
        "    sp_alg = {'Random Forest':        {'Sex': {'Male':0, 'Female':0}, 'Race': {'White':0, 'Black':0, 'Asian-Pac-Islander':0, 'Amer-Indian-Eskimo':0, 'Other':0}},\n",
        "                'Decision Tree':      {'Sex': {'Male':0, 'Female':0}, 'Race': {'White':0, 'Black':0, 'Asian-Pac-Islander':0, 'Amer-Indian-Eskimo':0, 'Other':0}},\n",
        "                'K-Nearest Neighbor': {'Sex': {'Male':0, 'Female':0}, 'Race': {'White':0, 'Black':0, 'Asian-Pac-Islander':0, 'Amer-Indian-Eskimo':0, 'Other':0}},\n",
        "                'Neural Net':         {'Sex': {'Male':0, 'Female':0}, 'Race': {'White':0, 'Black':0, 'Asian-Pac-Islander':0, 'Amer-Indian-Eskimo':0, 'Other':0}},\n",
        "                'SVM':                {'Sex': {'Male':0, 'Female':0}, 'Race': {'White':0, 'Black':0, 'Asian-Pac-Islander':0, 'Amer-Indian-Eskimo':0, 'Other':0}},\n",
        "                'Adaboost':           {'Sex': {'Male':0, 'Female':0}, 'Race': {'White':0, 'Black':0, 'Asian-Pac-Islander':0, 'Amer-Indian-Eskimo':0, 'Other':0}},\n",
        "                'Random':             {'Sex': {'Male':0, 'Female':0}, 'Race': {'White':0, 'Black':0, 'Asian-Pac-Islander':0, 'Amer-Indian-Eskimo':0, 'Other':0}},\n",
        "                'Majority Male':      {'Sex': {'Male':0, 'Female':0}, 'Race': {'White':0, 'Black':0, 'Asian-Pac-Islander':0, 'Amer-Indian-Eskimo':0, 'Other':0}},\n",
        "                'Majority White':     {'Sex': {'Male':0, 'Female':0}, 'Race': {'White':0, 'Black':0, 'Asian-Pac-Islander':0, 'Amer-Indian-Eskimo':0, 'Other':0}}\n",
        "         }\n",
        "\n",
        "    # SEX STATISTICAL PARITY\n",
        "    for sex in sexes:  \n",
        "\n",
        "        tmp_test_x = x_test[(x_test['sex']==sex) & (x_test['Sum_of_Score_g']==sum_of_score)]\n",
        "        tmp_test_y = y_test[(x_test['sex']==sex) & (x_test['Sum_of_Score_g']==sum_of_score)]\n",
        "\n",
        "        for name in algnames:\n",
        "          prediction = model[name].predict(tmp_test_x) # Prediction for each sensitive group\n",
        "          tn, fp, fn, tp = confusion_matrix(tmp_test_y.astype(int), prediction.astype(int), labels=[0, 1]).ravel()\n",
        "\n",
        "          sp_alg[name]['Sex'][sex] = (tp+fp)/(tp+fp+tn+fn)\n",
        "\n",
        "    # RACE STATISTICAL PARITY    \n",
        "    for race in races:\n",
        "\n",
        "        tmp_test_x = x_test[(x_test['race']==race) & (x_test['Sum_of_Score_g']==sum_of_score)]\n",
        "        tmp_test_y = y_test[(x_test['race']==race) & (x_test['Sum_of_Score_g']==sum_of_score)]\n",
        "\n",
        "        for name in algnames:\n",
        "          prediction = model[name].predict(tmp_test_x) # Prediction for each sensitive group\n",
        "          tn, fp, fn, tp = confusion_matrix(tmp_test_y.astype(int), prediction.astype(int), labels=[0, 1]).ravel()\n",
        "                \n",
        "          sp_alg[name]['Race'][race] = (tp+fp)/(tp+fp+tn+fn)\n",
        "\n",
        "    return sp_alg\n",
        "\n",
        "#CSP('21-25')"
      ],
      "id": "046cd75b-e742-4518-b04a-43401b42c0f4"
    },
    {
      "cell_type": "code",
      "execution_count": null,
      "metadata": {
        "id": "2f831bbe-733e-4572-8a41-f3f5f7e889f3"
      },
      "outputs": [],
      "source": [
        "plt.figure(figsize=(25, 10))\n",
        "\n",
        "SS_vals = ['0-10', '11-15', '16-20', '21-25', '26-30', '>30']\n",
        "\n",
        "for idx2, SS in enumerate(SS_vals):\n",
        "    sp_alg = CSP(SS)\n",
        "    for idx, name in enumerate(algnames):\n",
        "        plt.subplot(6, 9, idx2*9 + idx+1)\n",
        "        plt.title(name + \" \" + SS)\n",
        "        plt.barh(list(sp_alg[name]['Sex'].keys()), list(sp_alg[name]['Sex'].values()))\n",
        "        if idx != 0:\n",
        "            plt.yticks([])\n",
        "        if idx2 != 5:\n",
        "            plt.xticks([])\n",
        "        plt.xlim([0, 1])\n",
        "        \n",
        "plt.show()"
      ],
      "id": "2f831bbe-733e-4572-8a41-f3f5f7e889f3"
    },
    {
      "cell_type": "code",
      "execution_count": null,
      "metadata": {
        "id": "a6b1fa21-bd1e-4e90-8ce6-5b944079d38d"
      },
      "outputs": [],
      "source": [
        "plt.figure(figsize=(25, 15))\n",
        "\n",
        "SS_vals = ['0-10', '11-15', '16-20', '21-25', '26-30', '>30']\n",
        "\n",
        "for idx2, SS in enumerate(SS_vals):\n",
        "    sp_alg = CSP(SS)\n",
        "    for idx, name in enumerate(algnames):\n",
        "        plt.subplot(6, 9, idx2*9 + idx+1)\n",
        "        plt.title(name + \" \" + SS)\n",
        "        plt.barh(list(sp_alg[name]['Race'].keys()), list(sp_alg[name]['Race'].values()))\n",
        "        if idx != 0:\n",
        "            plt.yticks([])\n",
        "        if idx2 != 5:\n",
        "            plt.xticks([])\n",
        "        plt.xlim([0, 1])\n",
        "        \n",
        "plt.show()"
      ],
      "id": "a6b1fa21-bd1e-4e90-8ce6-5b944079d38d"
    },
    {
      "cell_type": "code",
      "execution_count": null,
      "metadata": {
        "id": "dZl6vOR_GAob"
      },
      "outputs": [],
      "source": [
        "algnames=['SVM',\n",
        "            'Adaboost']"
      ],
      "id": "dZl6vOR_GAob"
    },
    {
      "cell_type": "code",
      "execution_count": null,
      "metadata": {
        "colab": {
          "base_uri": "https://localhost:8080/"
        },
        "id": "Ey1hLjVIfjX6",
        "outputId": "0bc3bba0-2c55-414e-b7c9-72beb302a969"
      },
      "outputs": [
        {
          "data": {
            "text/plain": [
              "<dice_ml.counterfactual_explanations.CounterfactualExplanations at 0x7feb4d882410>"
            ]
          },
          "execution_count": 41,
          "metadata": {},
          "output_type": "execute_result"
        }
      ],
      "source": [
        "counterfactuals_exp_o['Random Forest']"
      ],
      "id": "Ey1hLjVIfjX6"
    },
    {
      "cell_type": "markdown",
      "metadata": {
        "id": "9419dcf1-380f-45ab-9189-7749c1df9875"
      },
      "source": [
        "# Counterfactual"
      ],
      "id": "9419dcf1-380f-45ab-9189-7749c1df9875"
    },
    {
      "cell_type": "markdown",
      "metadata": {
        "id": "a224ca21-aff1-40fd-b5d3-93c49bd5427e"
      },
      "source": [
        "## Feature importance"
      ],
      "id": "a224ca21-aff1-40fd-b5d3-93c49bd5427e"
    },
    {
      "cell_type": "markdown",
      "metadata": {
        "id": "699a9617-f99c-49ae-b4cd-e8f78e66f5eb"
      },
      "source": [
        "##Changing non-sensitive\n",
        "\n"
      ],
      "id": "699a9617-f99c-49ae-b4cd-e8f78e66f5eb"
    },
    {
      "cell_type": "code",
      "execution_count": null,
      "metadata": {
        "colab": {
          "base_uri": "https://localhost:8080/"
        },
        "id": "c837af65-697d-4f9f-9501-6f9a81e4b67d",
        "outputId": "18fb180d-a693-46d4-f553-839365583667"
      },
      "outputs": [
        {
          "name": "stdout",
          "output_type": "stream",
          "text": [
            "Majority Male\n"
          ]
        },
        {
          "name": "stderr",
          "output_type": "stream",
          "text": [
            "\r  0%|          | 0/500 [00:00<?, ?it/s]/usr/local/lib/python3.7/dist-packages/pandas/core/indexing.py:1667: SettingWithCopyWarning: \n",
            "A value is trying to be set on a copy of a slice from a DataFrame.\n",
            "Try using .loc[row_indexer,col_indexer] = value instead\n",
            "\n",
            "See the caveats in the documentation: https://pandas.pydata.org/pandas-docs/stable/user_guide/indexing.html#returning-a-view-versus-a-copy\n",
            "  self.obj[key] = value\n",
            "/usr/local/lib/python3.7/dist-packages/dice_ml/explainer_interfaces/dice_random.py:151: SettingWithCopyWarning: \n",
            "A value is trying to be set on a copy of a slice from a DataFrame.\n",
            "Try using .loc[row_indexer,col_indexer] = value instead\n",
            "\n",
            "See the caveats in the documentation: https://pandas.pydata.org/pandas-docs/stable/user_guide/indexing.html#returning-a-view-versus-a-copy\n",
            "  final_cfs_df[self.data_interface.outcome_name].round(self.outcome_precision)\n",
            "  1%|          | 3/500 [00:08<23:18,  2.81s/it]"
          ]
        },
        {
          "name": "stdout",
          "output_type": "stream",
          "text": [
            "Only 1 (required 5)  Diverse Counterfactuals found for the given configuration, perhaps try with different parameters... ; total time taken: 00 min 03 sec\n"
          ]
        },
        {
          "name": "stderr",
          "output_type": "stream",
          "text": [
            "  1%|          | 5/500 [00:12<20:35,  2.50s/it]"
          ]
        },
        {
          "name": "stdout",
          "output_type": "stream",
          "text": [
            "Only 3 (required 5)  Diverse Counterfactuals found for the given configuration, perhaps try with different parameters... ; total time taken: 00 min 03 sec\n"
          ]
        },
        {
          "name": "stderr",
          "output_type": "stream",
          "text": [
            "  2%|▏         | 11/500 [00:23<16:07,  1.98s/it]"
          ]
        },
        {
          "name": "stdout",
          "output_type": "stream",
          "text": [
            "Only 1 (required 5)  Diverse Counterfactuals found for the given configuration, perhaps try with different parameters... ; total time taken: 00 min 03 sec\n"
          ]
        },
        {
          "name": "stderr",
          "output_type": "stream",
          "text": [
            "  3%|▎         | 17/500 [00:36<19:15,  2.39s/it]"
          ]
        },
        {
          "name": "stdout",
          "output_type": "stream",
          "text": [
            "No Counterfactuals found for the given configuration, perhaps try with different parameters... ; total time taken: 00 min 03 sec\n"
          ]
        },
        {
          "name": "stderr",
          "output_type": "stream",
          "text": [
            "  5%|▌         | 25/500 [00:52<20:53,  2.64s/it]"
          ]
        },
        {
          "name": "stdout",
          "output_type": "stream",
          "text": [
            "Only 2 (required 5)  Diverse Counterfactuals found for the given configuration, perhaps try with different parameters... ; total time taken: 00 min 03 sec\n"
          ]
        },
        {
          "name": "stderr",
          "output_type": "stream",
          "text": [
            "\r  5%|▌         | 26/500 [00:55<21:52,  2.77s/it]"
          ]
        },
        {
          "name": "stdout",
          "output_type": "stream",
          "text": [
            "Only 4 (required 5)  Diverse Counterfactuals found for the given configuration, perhaps try with different parameters... ; total time taken: 00 min 03 sec\n"
          ]
        },
        {
          "name": "stderr",
          "output_type": "stream",
          "text": [
            "  6%|▋         | 32/500 [01:04<14:51,  1.91s/it]"
          ]
        },
        {
          "name": "stdout",
          "output_type": "stream",
          "text": [
            "Only 1 (required 5)  Diverse Counterfactuals found for the given configuration, perhaps try with different parameters... ; total time taken: 00 min 03 sec\n"
          ]
        },
        {
          "name": "stderr",
          "output_type": "stream",
          "text": [
            "  7%|▋         | 37/500 [01:11<13:59,  1.81s/it]"
          ]
        },
        {
          "name": "stdout",
          "output_type": "stream",
          "text": [
            "No Counterfactuals found for the given configuration, perhaps try with different parameters... ; total time taken: 00 min 02 sec\n"
          ]
        },
        {
          "name": "stderr",
          "output_type": "stream",
          "text": [
            "  8%|▊         | 39/500 [01:19<22:34,  2.94s/it]"
          ]
        },
        {
          "name": "stdout",
          "output_type": "stream",
          "text": [
            "Only 4 (required 5)  Diverse Counterfactuals found for the given configuration, perhaps try with different parameters... ; total time taken: 00 min 04 sec\n"
          ]
        },
        {
          "name": "stderr",
          "output_type": "stream",
          "text": [
            "  8%|▊         | 41/500 [01:24<19:52,  2.60s/it]"
          ]
        },
        {
          "name": "stdout",
          "output_type": "stream",
          "text": [
            "Only 1 (required 5)  Diverse Counterfactuals found for the given configuration, perhaps try with different parameters... ; total time taken: 00 min 03 sec\n"
          ]
        },
        {
          "name": "stderr",
          "output_type": "stream",
          "text": [
            "  9%|▉         | 47/500 [01:35<16:13,  2.15s/it]"
          ]
        },
        {
          "name": "stdout",
          "output_type": "stream",
          "text": [
            "Only 1 (required 5)  Diverse Counterfactuals found for the given configuration, perhaps try with different parameters... ; total time taken: 00 min 03 sec\n"
          ]
        },
        {
          "name": "stderr",
          "output_type": "stream",
          "text": [
            " 10%|█         | 50/500 [01:41<15:53,  2.12s/it]"
          ]
        },
        {
          "name": "stdout",
          "output_type": "stream",
          "text": [
            "Only 2 (required 5)  Diverse Counterfactuals found for the given configuration, perhaps try with different parameters... ; total time taken: 00 min 03 sec\n"
          ]
        },
        {
          "name": "stderr",
          "output_type": "stream",
          "text": [
            "\r 10%|█         | 51/500 [01:44<18:07,  2.42s/it]"
          ]
        },
        {
          "name": "stdout",
          "output_type": "stream",
          "text": [
            "Only 2 (required 5)  Diverse Counterfactuals found for the given configuration, perhaps try with different parameters... ; total time taken: 00 min 03 sec\n"
          ]
        },
        {
          "name": "stderr",
          "output_type": "stream",
          "text": [
            " 11%|█         | 56/500 [01:54<16:07,  2.18s/it]"
          ]
        },
        {
          "name": "stdout",
          "output_type": "stream",
          "text": [
            "Only 2 (required 5)  Diverse Counterfactuals found for the given configuration, perhaps try with different parameters... ; total time taken: 00 min 03 sec\n"
          ]
        },
        {
          "name": "stderr",
          "output_type": "stream",
          "text": [
            " 12%|█▏        | 59/500 [02:00<16:50,  2.29s/it]"
          ]
        },
        {
          "name": "stdout",
          "output_type": "stream",
          "text": [
            "Only 2 (required 5)  Diverse Counterfactuals found for the given configuration, perhaps try with different parameters... ; total time taken: 00 min 03 sec\n"
          ]
        },
        {
          "name": "stderr",
          "output_type": "stream",
          "text": [
            " 13%|█▎        | 65/500 [02:14<19:19,  2.66s/it]"
          ]
        },
        {
          "name": "stdout",
          "output_type": "stream",
          "text": [
            "Only 4 (required 5)  Diverse Counterfactuals found for the given configuration, perhaps try with different parameters... ; total time taken: 00 min 03 sec\n"
          ]
        },
        {
          "name": "stderr",
          "output_type": "stream",
          "text": [
            "\r 13%|█▎        | 66/500 [02:17<20:13,  2.80s/it]"
          ]
        },
        {
          "name": "stdout",
          "output_type": "stream",
          "text": [
            "Only 3 (required 5)  Diverse Counterfactuals found for the given configuration, perhaps try with different parameters... ; total time taken: 00 min 03 sec\n"
          ]
        },
        {
          "name": "stderr",
          "output_type": "stream",
          "text": [
            " 14%|█▍        | 71/500 [02:27<16:12,  2.27s/it]"
          ]
        },
        {
          "name": "stdout",
          "output_type": "stream",
          "text": [
            "Only 3 (required 5)  Diverse Counterfactuals found for the given configuration, perhaps try with different parameters... ; total time taken: 00 min 03 sec\n"
          ]
        },
        {
          "name": "stderr",
          "output_type": "stream",
          "text": [
            " 15%|█▍        | 73/500 [02:31<16:06,  2.26s/it]"
          ]
        },
        {
          "name": "stdout",
          "output_type": "stream",
          "text": [
            "Only 1 (required 5)  Diverse Counterfactuals found for the given configuration, perhaps try with different parameters... ; total time taken: 00 min 03 sec\n"
          ]
        },
        {
          "name": "stderr",
          "output_type": "stream",
          "text": [
            "\r 15%|█▍        | 74/500 [02:34<17:52,  2.52s/it]"
          ]
        },
        {
          "name": "stdout",
          "output_type": "stream",
          "text": [
            "Only 4 (required 5)  Diverse Counterfactuals found for the given configuration, perhaps try with different parameters... ; total time taken: 00 min 03 sec\n"
          ]
        },
        {
          "name": "stderr",
          "output_type": "stream",
          "text": [
            " 16%|█▌        | 80/500 [02:43<13:27,  1.92s/it]"
          ]
        },
        {
          "name": "stdout",
          "output_type": "stream",
          "text": [
            "Only 3 (required 5)  Diverse Counterfactuals found for the given configuration, perhaps try with different parameters... ; total time taken: 00 min 03 sec\n"
          ]
        },
        {
          "name": "stderr",
          "output_type": "stream",
          "text": [
            "\r 16%|█▌        | 81/500 [02:47<15:57,  2.28s/it]"
          ]
        },
        {
          "name": "stdout",
          "output_type": "stream",
          "text": [
            "Only 4 (required 5)  Diverse Counterfactuals found for the given configuration, perhaps try with different parameters... ; total time taken: 00 min 03 sec\n"
          ]
        },
        {
          "name": "stderr",
          "output_type": "stream",
          "text": [
            "\r 16%|█▋        | 82/500 [02:50<17:36,  2.53s/it]"
          ]
        },
        {
          "name": "stdout",
          "output_type": "stream",
          "text": [
            "Only 1 (required 5)  Diverse Counterfactuals found for the given configuration, perhaps try with different parameters... ; total time taken: 00 min 03 sec\n"
          ]
        },
        {
          "name": "stderr",
          "output_type": "stream",
          "text": [
            " 17%|█▋        | 85/500 [02:56<16:40,  2.41s/it]"
          ]
        },
        {
          "name": "stdout",
          "output_type": "stream",
          "text": [
            "Only 3 (required 5)  Diverse Counterfactuals found for the given configuration, perhaps try with different parameters... ; total time taken: 00 min 03 sec\n"
          ]
        },
        {
          "name": "stderr",
          "output_type": "stream",
          "text": [
            "\r 17%|█▋        | 86/500 [03:00<18:05,  2.62s/it]"
          ]
        },
        {
          "name": "stdout",
          "output_type": "stream",
          "text": [
            "Only 4 (required 5)  Diverse Counterfactuals found for the given configuration, perhaps try with different parameters... ; total time taken: 00 min 03 sec\n"
          ]
        },
        {
          "name": "stderr",
          "output_type": "stream",
          "text": [
            " 19%|█▉        | 95/500 [03:16<13:24,  1.99s/it]"
          ]
        },
        {
          "name": "stdout",
          "output_type": "stream",
          "text": [
            "Only 3 (required 5)  Diverse Counterfactuals found for the given configuration, perhaps try with different parameters... ; total time taken: 00 min 03 sec\n"
          ]
        },
        {
          "name": "stderr",
          "output_type": "stream",
          "text": [
            "\r 19%|█▉        | 96/500 [03:19<15:30,  2.30s/it]"
          ]
        },
        {
          "name": "stdout",
          "output_type": "stream",
          "text": [
            "Only 1 (required 5)  Diverse Counterfactuals found for the given configuration, perhaps try with different parameters... ; total time taken: 00 min 03 sec\n"
          ]
        },
        {
          "name": "stderr",
          "output_type": "stream",
          "text": [
            " 21%|██        | 103/500 [03:33<15:41,  2.37s/it]"
          ]
        },
        {
          "name": "stdout",
          "output_type": "stream",
          "text": [
            "Only 4 (required 5)  Diverse Counterfactuals found for the given configuration, perhaps try with different parameters... ; total time taken: 00 min 03 sec\n"
          ]
        },
        {
          "name": "stderr",
          "output_type": "stream",
          "text": [
            " 22%|██▏       | 110/500 [03:44<13:08,  2.02s/it]"
          ]
        },
        {
          "name": "stdout",
          "output_type": "stream",
          "text": [
            "Only 1 (required 5)  Diverse Counterfactuals found for the given configuration, perhaps try with different parameters... ; total time taken: 00 min 03 sec\n"
          ]
        },
        {
          "name": "stderr",
          "output_type": "stream",
          "text": [
            " 23%|██▎       | 117/500 [03:55<12:01,  1.88s/it]"
          ]
        },
        {
          "name": "stdout",
          "output_type": "stream",
          "text": [
            "Only 3 (required 5)  Diverse Counterfactuals found for the given configuration, perhaps try with different parameters... ; total time taken: 00 min 03 sec\n"
          ]
        },
        {
          "name": "stderr",
          "output_type": "stream",
          "text": [
            " 26%|██▌       | 131/500 [04:22<11:57,  1.94s/it]"
          ]
        },
        {
          "name": "stdout",
          "output_type": "stream",
          "text": [
            "Only 3 (required 5)  Diverse Counterfactuals found for the given configuration, perhaps try with different parameters... ; total time taken: 00 min 03 sec\n"
          ]
        },
        {
          "name": "stderr",
          "output_type": "stream",
          "text": [
            " 27%|██▋       | 135/500 [04:31<13:26,  2.21s/it]"
          ]
        },
        {
          "name": "stdout",
          "output_type": "stream",
          "text": [
            "Only 2 (required 5)  Diverse Counterfactuals found for the given configuration, perhaps try with different parameters... ; total time taken: 00 min 03 sec\n"
          ]
        },
        {
          "name": "stderr",
          "output_type": "stream",
          "text": [
            "\r 27%|██▋       | 136/500 [04:34<14:58,  2.47s/it]"
          ]
        },
        {
          "name": "stdout",
          "output_type": "stream",
          "text": [
            "Only 2 (required 5)  Diverse Counterfactuals found for the given configuration, perhaps try with different parameters... ; total time taken: 00 min 03 sec\n"
          ]
        },
        {
          "name": "stderr",
          "output_type": "stream",
          "text": [
            " 30%|██▉       | 149/500 [04:54<10:14,  1.75s/it]"
          ]
        },
        {
          "name": "stdout",
          "output_type": "stream",
          "text": [
            "Only 2 (required 5)  Diverse Counterfactuals found for the given configuration, perhaps try with different parameters... ; total time taken: 00 min 03 sec\n"
          ]
        },
        {
          "name": "stderr",
          "output_type": "stream",
          "text": [
            " 31%|███▏      | 157/500 [05:06<11:12,  1.96s/it]"
          ]
        },
        {
          "name": "stdout",
          "output_type": "stream",
          "text": [
            "Only 4 (required 5)  Diverse Counterfactuals found for the given configuration, perhaps try with different parameters... ; total time taken: 00 min 03 sec\n"
          ]
        },
        {
          "name": "stderr",
          "output_type": "stream",
          "text": [
            " 32%|███▏      | 162/500 [05:15<11:11,  1.99s/it]"
          ]
        },
        {
          "name": "stdout",
          "output_type": "stream",
          "text": [
            "Only 4 (required 5)  Diverse Counterfactuals found for the given configuration, perhaps try with different parameters... ; total time taken: 00 min 03 sec\n"
          ]
        },
        {
          "name": "stderr",
          "output_type": "stream",
          "text": [
            " 34%|███▍      | 169/500 [05:26<11:36,  2.11s/it]"
          ]
        },
        {
          "name": "stdout",
          "output_type": "stream",
          "text": [
            "Only 4 (required 5)  Diverse Counterfactuals found for the given configuration, perhaps try with different parameters... ; total time taken: 00 min 03 sec\n"
          ]
        },
        {
          "name": "stderr",
          "output_type": "stream",
          "text": [
            " 35%|███▌      | 176/500 [05:38<10:26,  1.93s/it]"
          ]
        },
        {
          "name": "stdout",
          "output_type": "stream",
          "text": [
            "Only 2 (required 5)  Diverse Counterfactuals found for the given configuration, perhaps try with different parameters... ; total time taken: 00 min 03 sec\n"
          ]
        },
        {
          "name": "stderr",
          "output_type": "stream",
          "text": [
            " 36%|███▌      | 180/500 [05:49<13:30,  2.53s/it]"
          ]
        },
        {
          "name": "stdout",
          "output_type": "stream",
          "text": [
            "Only 1 (required 5)  Diverse Counterfactuals found for the given configuration, perhaps try with different parameters... ; total time taken: 00 min 03 sec\n"
          ]
        },
        {
          "name": "stderr",
          "output_type": "stream",
          "text": [
            " 37%|███▋      | 184/500 [05:56<11:41,  2.22s/it]"
          ]
        },
        {
          "name": "stdout",
          "output_type": "stream",
          "text": [
            "No Counterfactuals found for the given configuration, perhaps try with different parameters... ; total time taken: 00 min 03 sec\n"
          ]
        },
        {
          "name": "stderr",
          "output_type": "stream",
          "text": [
            "\r 37%|███▋      | 185/500 [05:59<13:11,  2.51s/it]"
          ]
        },
        {
          "name": "stdout",
          "output_type": "stream",
          "text": [
            "Only 2 (required 5)  Diverse Counterfactuals found for the given configuration, perhaps try with different parameters... ; total time taken: 00 min 03 sec\n"
          ]
        },
        {
          "name": "stderr",
          "output_type": "stream",
          "text": [
            "\r 37%|███▋      | 186/500 [06:02<14:02,  2.68s/it]"
          ]
        },
        {
          "name": "stdout",
          "output_type": "stream",
          "text": [
            "Only 1 (required 5)  Diverse Counterfactuals found for the given configuration, perhaps try with different parameters... ; total time taken: 00 min 03 sec\n"
          ]
        },
        {
          "name": "stderr",
          "output_type": "stream",
          "text": [
            " 38%|███▊      | 188/500 [06:08<13:55,  2.68s/it]"
          ]
        },
        {
          "name": "stdout",
          "output_type": "stream",
          "text": [
            "Only 4 (required 5)  Diverse Counterfactuals found for the given configuration, perhaps try with different parameters... ; total time taken: 00 min 03 sec\n"
          ]
        },
        {
          "name": "stderr",
          "output_type": "stream",
          "text": [
            " 39%|███▉      | 197/500 [06:22<10:11,  2.02s/it]"
          ]
        },
        {
          "name": "stdout",
          "output_type": "stream",
          "text": [
            "Only 3 (required 5)  Diverse Counterfactuals found for the given configuration, perhaps try with different parameters... ; total time taken: 00 min 03 sec\n"
          ]
        },
        {
          "name": "stderr",
          "output_type": "stream",
          "text": [
            " 41%|████      | 203/500 [06:34<11:24,  2.31s/it]"
          ]
        },
        {
          "name": "stdout",
          "output_type": "stream",
          "text": [
            "Only 1 (required 5)  Diverse Counterfactuals found for the given configuration, perhaps try with different parameters... ; total time taken: 00 min 03 sec\n"
          ]
        },
        {
          "name": "stderr",
          "output_type": "stream",
          "text": [
            " 42%|████▏     | 210/500 [06:46<10:01,  2.08s/it]"
          ]
        },
        {
          "name": "stdout",
          "output_type": "stream",
          "text": [
            "Only 1 (required 5)  Diverse Counterfactuals found for the given configuration, perhaps try with different parameters... ; total time taken: 00 min 03 sec\n"
          ]
        },
        {
          "name": "stderr",
          "output_type": "stream",
          "text": [
            " 43%|████▎     | 217/500 [06:59<09:25,  2.00s/it]"
          ]
        },
        {
          "name": "stdout",
          "output_type": "stream",
          "text": [
            "Only 3 (required 5)  Diverse Counterfactuals found for the given configuration, perhaps try with different parameters... ; total time taken: 00 min 03 sec\n"
          ]
        },
        {
          "name": "stderr",
          "output_type": "stream",
          "text": [
            " 45%|████▍     | 224/500 [07:13<10:17,  2.24s/it]"
          ]
        },
        {
          "name": "stdout",
          "output_type": "stream",
          "text": [
            "Only 3 (required 5)  Diverse Counterfactuals found for the given configuration, perhaps try with different parameters... ; total time taken: 00 min 03 sec\n"
          ]
        },
        {
          "name": "stderr",
          "output_type": "stream",
          "text": [
            " 46%|████▌     | 228/500 [07:20<08:57,  1.98s/it]"
          ]
        },
        {
          "name": "stdout",
          "output_type": "stream",
          "text": [
            "Only 2 (required 5)  Diverse Counterfactuals found for the given configuration, perhaps try with different parameters... ; total time taken: 00 min 03 sec\n"
          ]
        },
        {
          "name": "stderr",
          "output_type": "stream",
          "text": [
            " 47%|████▋     | 235/500 [07:31<08:27,  1.91s/it]"
          ]
        },
        {
          "name": "stdout",
          "output_type": "stream",
          "text": [
            "Only 4 (required 5)  Diverse Counterfactuals found for the given configuration, perhaps try with different parameters... ; total time taken: 00 min 03 sec\n"
          ]
        },
        {
          "name": "stderr",
          "output_type": "stream",
          "text": [
            " 47%|████▋     | 237/500 [07:35<09:07,  2.08s/it]"
          ]
        },
        {
          "name": "stdout",
          "output_type": "stream",
          "text": [
            "No Counterfactuals found for the given configuration, perhaps try with different parameters... ; total time taken: 00 min 03 sec\n"
          ]
        },
        {
          "name": "stderr",
          "output_type": "stream",
          "text": [
            " 48%|████▊     | 240/500 [07:43<10:40,  2.46s/it]"
          ]
        },
        {
          "name": "stdout",
          "output_type": "stream",
          "text": [
            "Only 2 (required 5)  Diverse Counterfactuals found for the given configuration, perhaps try with different parameters... ; total time taken: 00 min 03 sec\n"
          ]
        },
        {
          "name": "stderr",
          "output_type": "stream",
          "text": [
            " 52%|█████▏    | 262/500 [08:21<07:32,  1.90s/it]"
          ]
        },
        {
          "name": "stdout",
          "output_type": "stream",
          "text": [
            "Only 3 (required 5)  Diverse Counterfactuals found for the given configuration, perhaps try with different parameters... ; total time taken: 00 min 03 sec\n"
          ]
        },
        {
          "name": "stderr",
          "output_type": "stream",
          "text": [
            "\r 53%|█████▎    | 263/500 [08:24<08:54,  2.26s/it]"
          ]
        },
        {
          "name": "stdout",
          "output_type": "stream",
          "text": [
            "Only 3 (required 5)  Diverse Counterfactuals found for the given configuration, perhaps try with different parameters... ; total time taken: 00 min 03 sec\n"
          ]
        },
        {
          "name": "stderr",
          "output_type": "stream",
          "text": [
            " 53%|█████▎    | 265/500 [08:29<08:51,  2.26s/it]"
          ]
        },
        {
          "name": "stdout",
          "output_type": "stream",
          "text": [
            "Only 3 (required 5)  Diverse Counterfactuals found for the given configuration, perhaps try with different parameters... ; total time taken: 00 min 03 sec\n"
          ]
        },
        {
          "name": "stderr",
          "output_type": "stream",
          "text": [
            " 54%|█████▍    | 269/500 [08:37<09:13,  2.40s/it]"
          ]
        },
        {
          "name": "stdout",
          "output_type": "stream",
          "text": [
            "Only 2 (required 5)  Diverse Counterfactuals found for the given configuration, perhaps try with different parameters... ; total time taken: 00 min 03 sec\n"
          ]
        },
        {
          "name": "stderr",
          "output_type": "stream",
          "text": [
            " 54%|█████▍    | 271/500 [08:42<08:50,  2.32s/it]"
          ]
        },
        {
          "name": "stdout",
          "output_type": "stream",
          "text": [
            "Only 1 (required 5)  Diverse Counterfactuals found for the given configuration, perhaps try with different parameters... ; total time taken: 00 min 03 sec\n"
          ]
        },
        {
          "name": "stderr",
          "output_type": "stream",
          "text": [
            "\r 54%|█████▍    | 272/500 [08:45<09:38,  2.54s/it]"
          ]
        },
        {
          "name": "stdout",
          "output_type": "stream",
          "text": [
            "Only 2 (required 5)  Diverse Counterfactuals found for the given configuration, perhaps try with different parameters... ; total time taken: 00 min 03 sec\n"
          ]
        },
        {
          "name": "stderr",
          "output_type": "stream",
          "text": [
            " 55%|█████▌    | 277/500 [08:52<07:11,  1.93s/it]"
          ]
        },
        {
          "name": "stdout",
          "output_type": "stream",
          "text": [
            "Only 1 (required 5)  Diverse Counterfactuals found for the given configuration, perhaps try with different parameters... ; total time taken: 00 min 03 sec\n"
          ]
        },
        {
          "name": "stderr",
          "output_type": "stream",
          "text": [
            " 58%|█████▊    | 288/500 [09:07<06:34,  1.86s/it]"
          ]
        },
        {
          "name": "stdout",
          "output_type": "stream",
          "text": [
            "Only 4 (required 5)  Diverse Counterfactuals found for the given configuration, perhaps try with different parameters... ; total time taken: 00 min 03 sec\n"
          ]
        },
        {
          "name": "stderr",
          "output_type": "stream",
          "text": [
            " 58%|█████▊    | 290/500 [09:11<07:09,  2.04s/it]"
          ]
        },
        {
          "name": "stdout",
          "output_type": "stream",
          "text": [
            "Only 1 (required 5)  Diverse Counterfactuals found for the given configuration, perhaps try with different parameters... ; total time taken: 00 min 02 sec\n"
          ]
        },
        {
          "name": "stderr",
          "output_type": "stream",
          "text": [
            " 58%|█████▊    | 292/500 [09:17<08:29,  2.45s/it]"
          ]
        },
        {
          "name": "stdout",
          "output_type": "stream",
          "text": [
            "Only 3 (required 5)  Diverse Counterfactuals found for the given configuration, perhaps try with different parameters... ; total time taken: 00 min 03 sec\n"
          ]
        },
        {
          "name": "stderr",
          "output_type": "stream",
          "text": [
            "\r 59%|█████▊    | 293/500 [09:20<09:05,  2.63s/it]"
          ]
        },
        {
          "name": "stdout",
          "output_type": "stream",
          "text": [
            "Only 1 (required 5)  Diverse Counterfactuals found for the given configuration, perhaps try with different parameters... ; total time taken: 00 min 03 sec\n"
          ]
        },
        {
          "name": "stderr",
          "output_type": "stream",
          "text": [
            " 59%|█████▉    | 296/500 [09:25<07:36,  2.24s/it]"
          ]
        },
        {
          "name": "stdout",
          "output_type": "stream",
          "text": [
            "Only 4 (required 5)  Diverse Counterfactuals found for the given configuration, perhaps try with different parameters... ; total time taken: 00 min 03 sec\n"
          ]
        },
        {
          "name": "stderr",
          "output_type": "stream",
          "text": [
            "\r 59%|█████▉    | 297/500 [09:28<08:24,  2.48s/it]"
          ]
        },
        {
          "name": "stdout",
          "output_type": "stream",
          "text": [
            "No Counterfactuals found for the given configuration, perhaps try with different parameters... ; total time taken: 00 min 03 sec\n"
          ]
        },
        {
          "name": "stderr",
          "output_type": "stream",
          "text": [
            " 60%|██████    | 300/500 [09:35<08:00,  2.40s/it]"
          ]
        },
        {
          "name": "stdout",
          "output_type": "stream",
          "text": [
            "Only 4 (required 5)  Diverse Counterfactuals found for the given configuration, perhaps try with different parameters... ; total time taken: 00 min 03 sec\n"
          ]
        },
        {
          "name": "stderr",
          "output_type": "stream",
          "text": [
            " 60%|██████    | 302/500 [09:39<07:42,  2.34s/it]"
          ]
        },
        {
          "name": "stdout",
          "output_type": "stream",
          "text": [
            "Only 2 (required 5)  Diverse Counterfactuals found for the given configuration, perhaps try with different parameters... ; total time taken: 00 min 03 sec\n"
          ]
        },
        {
          "name": "stderr",
          "output_type": "stream",
          "text": [
            " 62%|██████▏   | 310/500 [09:56<07:39,  2.42s/it]"
          ]
        },
        {
          "name": "stdout",
          "output_type": "stream",
          "text": [
            "Only 4 (required 5)  Diverse Counterfactuals found for the given configuration, perhaps try with different parameters... ; total time taken: 00 min 03 sec\n"
          ]
        },
        {
          "name": "stderr",
          "output_type": "stream",
          "text": [
            " 63%|██████▎   | 314/500 [10:04<06:48,  2.20s/it]"
          ]
        },
        {
          "name": "stdout",
          "output_type": "stream",
          "text": [
            "Only 4 (required 5)  Diverse Counterfactuals found for the given configuration, perhaps try with different parameters... ; total time taken: 00 min 03 sec\n"
          ]
        },
        {
          "name": "stderr",
          "output_type": "stream",
          "text": [
            "\r 63%|██████▎   | 315/500 [10:07<07:34,  2.46s/it]"
          ]
        },
        {
          "name": "stdout",
          "output_type": "stream",
          "text": [
            "Only 1 (required 5)  Diverse Counterfactuals found for the given configuration, perhaps try with different parameters... ; total time taken: 00 min 03 sec\n"
          ]
        },
        {
          "name": "stderr",
          "output_type": "stream",
          "text": [
            "\r 63%|██████▎   | 316/500 [10:10<08:05,  2.64s/it]"
          ]
        },
        {
          "name": "stdout",
          "output_type": "stream",
          "text": [
            "Only 4 (required 5)  Diverse Counterfactuals found for the given configuration, perhaps try with different parameters... ; total time taken: 00 min 03 sec\n"
          ]
        },
        {
          "name": "stderr",
          "output_type": "stream",
          "text": [
            " 64%|██████▎   | 318/500 [10:14<07:26,  2.45s/it]"
          ]
        },
        {
          "name": "stdout",
          "output_type": "stream",
          "text": [
            "Only 3 (required 5)  Diverse Counterfactuals found for the given configuration, perhaps try with different parameters... ; total time taken: 00 min 03 sec\n"
          ]
        },
        {
          "name": "stderr",
          "output_type": "stream",
          "text": [
            " 66%|██████▌   | 331/500 [10:38<06:19,  2.25s/it]"
          ]
        },
        {
          "name": "stdout",
          "output_type": "stream",
          "text": [
            "Only 1 (required 5)  Diverse Counterfactuals found for the given configuration, perhaps try with different parameters... ; total time taken: 00 min 03 sec\n"
          ]
        },
        {
          "name": "stderr",
          "output_type": "stream",
          "text": [
            " 67%|██████▋   | 335/500 [10:48<06:43,  2.44s/it]"
          ]
        },
        {
          "name": "stdout",
          "output_type": "stream",
          "text": [
            "Only 3 (required 5)  Diverse Counterfactuals found for the given configuration, perhaps try with different parameters... ; total time taken: 00 min 03 sec\n"
          ]
        },
        {
          "name": "stderr",
          "output_type": "stream",
          "text": [
            " 68%|██████▊   | 338/500 [10:54<06:06,  2.26s/it]"
          ]
        },
        {
          "name": "stdout",
          "output_type": "stream",
          "text": [
            "Only 3 (required 5)  Diverse Counterfactuals found for the given configuration, perhaps try with different parameters... ; total time taken: 00 min 03 sec\n"
          ]
        },
        {
          "name": "stderr",
          "output_type": "stream",
          "text": [
            "\r 68%|██████▊   | 339/500 [10:57<06:43,  2.51s/it]"
          ]
        },
        {
          "name": "stdout",
          "output_type": "stream",
          "text": [
            "Only 4 (required 5)  Diverse Counterfactuals found for the given configuration, perhaps try with different parameters... ; total time taken: 00 min 03 sec\n"
          ]
        },
        {
          "name": "stderr",
          "output_type": "stream",
          "text": [
            "\r 68%|██████▊   | 340/500 [11:00<07:08,  2.68s/it]"
          ]
        },
        {
          "name": "stdout",
          "output_type": "stream",
          "text": [
            "Only 4 (required 5)  Diverse Counterfactuals found for the given configuration, perhaps try with different parameters... ; total time taken: 00 min 03 sec\n"
          ]
        },
        {
          "name": "stderr",
          "output_type": "stream",
          "text": [
            "\r 68%|██████▊   | 341/500 [11:03<07:29,  2.83s/it]"
          ]
        },
        {
          "name": "stdout",
          "output_type": "stream",
          "text": [
            "Only 1 (required 5)  Diverse Counterfactuals found for the given configuration, perhaps try with different parameters... ; total time taken: 00 min 03 sec\n"
          ]
        },
        {
          "name": "stderr",
          "output_type": "stream",
          "text": [
            " 69%|██████▉   | 347/500 [11:13<05:37,  2.21s/it]"
          ]
        },
        {
          "name": "stdout",
          "output_type": "stream",
          "text": [
            "Only 3 (required 5)  Diverse Counterfactuals found for the given configuration, perhaps try with different parameters... ; total time taken: 00 min 03 sec\n"
          ]
        },
        {
          "name": "stderr",
          "output_type": "stream",
          "text": [
            " 70%|██████▉   | 349/500 [11:18<06:09,  2.45s/it]"
          ]
        },
        {
          "name": "stdout",
          "output_type": "stream",
          "text": [
            "Only 1 (required 5)  Diverse Counterfactuals found for the given configuration, perhaps try with different parameters... ; total time taken: 00 min 03 sec\n"
          ]
        },
        {
          "name": "stderr",
          "output_type": "stream",
          "text": [
            " 70%|███████   | 351/500 [11:26<07:46,  3.13s/it]"
          ]
        },
        {
          "name": "stdout",
          "output_type": "stream",
          "text": [
            "Only 2 (required 5)  Diverse Counterfactuals found for the given configuration, perhaps try with different parameters... ; total time taken: 00 min 03 sec\n"
          ]
        },
        {
          "name": "stderr",
          "output_type": "stream",
          "text": [
            " 71%|███████   | 354/500 [11:33<06:32,  2.69s/it]"
          ]
        },
        {
          "name": "stdout",
          "output_type": "stream",
          "text": [
            "Only 4 (required 5)  Diverse Counterfactuals found for the given configuration, perhaps try with different parameters... ; total time taken: 00 min 03 sec\n"
          ]
        },
        {
          "name": "stderr",
          "output_type": "stream",
          "text": [
            " 71%|███████▏  | 357/500 [11:39<05:22,  2.25s/it]"
          ]
        },
        {
          "name": "stdout",
          "output_type": "stream",
          "text": [
            "Only 3 (required 5)  Diverse Counterfactuals found for the given configuration, perhaps try with different parameters... ; total time taken: 00 min 03 sec\n"
          ]
        },
        {
          "name": "stderr",
          "output_type": "stream",
          "text": [
            "\r 72%|███████▏  | 358/500 [11:42<05:54,  2.50s/it]"
          ]
        },
        {
          "name": "stdout",
          "output_type": "stream",
          "text": [
            "Only 3 (required 5)  Diverse Counterfactuals found for the given configuration, perhaps try with different parameters... ; total time taken: 00 min 03 sec\n"
          ]
        },
        {
          "name": "stderr",
          "output_type": "stream",
          "text": [
            " 75%|███████▌  | 375/500 [12:14<04:23,  2.10s/it]"
          ]
        },
        {
          "name": "stdout",
          "output_type": "stream",
          "text": [
            "Only 4 (required 5)  Diverse Counterfactuals found for the given configuration, perhaps try with different parameters... ; total time taken: 00 min 03 sec\n"
          ]
        },
        {
          "name": "stderr",
          "output_type": "stream",
          "text": [
            " 75%|███████▌  | 377/500 [12:18<04:29,  2.19s/it]"
          ]
        },
        {
          "name": "stdout",
          "output_type": "stream",
          "text": [
            "Only 3 (required 5)  Diverse Counterfactuals found for the given configuration, perhaps try with different parameters... ; total time taken: 00 min 03 sec\n"
          ]
        },
        {
          "name": "stderr",
          "output_type": "stream",
          "text": [
            " 78%|███████▊  | 388/500 [12:41<04:19,  2.32s/it]"
          ]
        },
        {
          "name": "stdout",
          "output_type": "stream",
          "text": [
            "Only 3 (required 5)  Diverse Counterfactuals found for the given configuration, perhaps try with different parameters... ; total time taken: 00 min 03 sec\n"
          ]
        },
        {
          "name": "stderr",
          "output_type": "stream",
          "text": [
            " 78%|███████▊  | 391/500 [12:48<04:16,  2.35s/it]"
          ]
        },
        {
          "name": "stdout",
          "output_type": "stream",
          "text": [
            "Only 4 (required 5)  Diverse Counterfactuals found for the given configuration, perhaps try with different parameters... ; total time taken: 00 min 03 sec\n"
          ]
        },
        {
          "name": "stderr",
          "output_type": "stream",
          "text": [
            " 79%|███████▊  | 393/500 [12:52<04:08,  2.32s/it]"
          ]
        },
        {
          "name": "stdout",
          "output_type": "stream",
          "text": [
            "Only 4 (required 5)  Diverse Counterfactuals found for the given configuration, perhaps try with different parameters... ; total time taken: 00 min 03 sec\n"
          ]
        },
        {
          "name": "stderr",
          "output_type": "stream",
          "text": [
            " 81%|████████▏ | 407/500 [13:15<03:00,  1.94s/it]"
          ]
        },
        {
          "name": "stdout",
          "output_type": "stream",
          "text": [
            "Only 3 (required 5)  Diverse Counterfactuals found for the given configuration, perhaps try with different parameters... ; total time taken: 00 min 03 sec\n"
          ]
        },
        {
          "name": "stderr",
          "output_type": "stream",
          "text": [
            "\r 82%|████████▏ | 408/500 [13:18<03:29,  2.28s/it]"
          ]
        },
        {
          "name": "stdout",
          "output_type": "stream",
          "text": [
            "Only 2 (required 5)  Diverse Counterfactuals found for the given configuration, perhaps try with different parameters... ; total time taken: 00 min 03 sec\n"
          ]
        },
        {
          "name": "stderr",
          "output_type": "stream",
          "text": [
            " 82%|████████▏ | 412/500 [13:30<04:10,  2.85s/it]"
          ]
        },
        {
          "name": "stdout",
          "output_type": "stream",
          "text": [
            "Only 3 (required 5)  Diverse Counterfactuals found for the given configuration, perhaps try with different parameters... ; total time taken: 00 min 03 sec\n"
          ]
        },
        {
          "name": "stderr",
          "output_type": "stream",
          "text": [
            " 87%|████████▋ | 434/500 [14:08<02:15,  2.05s/it]"
          ]
        },
        {
          "name": "stdout",
          "output_type": "stream",
          "text": [
            "Only 1 (required 5)  Diverse Counterfactuals found for the given configuration, perhaps try with different parameters... ; total time taken: 00 min 03 sec\n"
          ]
        },
        {
          "name": "stderr",
          "output_type": "stream",
          "text": [
            " 87%|████████▋ | 437/500 [14:13<02:07,  2.03s/it]"
          ]
        },
        {
          "name": "stdout",
          "output_type": "stream",
          "text": [
            "Only 3 (required 5)  Diverse Counterfactuals found for the given configuration, perhaps try with different parameters... ; total time taken: 00 min 03 sec\n"
          ]
        },
        {
          "name": "stderr",
          "output_type": "stream",
          "text": [
            "\r 88%|████████▊ | 438/500 [14:16<02:25,  2.35s/it]"
          ]
        },
        {
          "name": "stdout",
          "output_type": "stream",
          "text": [
            "Only 3 (required 5)  Diverse Counterfactuals found for the given configuration, perhaps try with different parameters... ; total time taken: 00 min 03 sec\n"
          ]
        },
        {
          "name": "stderr",
          "output_type": "stream",
          "text": [
            "\r 88%|████████▊ | 439/500 [14:20<02:38,  2.60s/it]"
          ]
        },
        {
          "name": "stdout",
          "output_type": "stream",
          "text": [
            "Only 4 (required 5)  Diverse Counterfactuals found for the given configuration, perhaps try with different parameters... ; total time taken: 00 min 03 sec\n"
          ]
        },
        {
          "name": "stderr",
          "output_type": "stream",
          "text": [
            " 88%|████████▊ | 442/500 [14:26<02:21,  2.44s/it]"
          ]
        },
        {
          "name": "stdout",
          "output_type": "stream",
          "text": [
            "Only 3 (required 5)  Diverse Counterfactuals found for the given configuration, perhaps try with different parameters... ; total time taken: 00 min 03 sec\n"
          ]
        },
        {
          "name": "stderr",
          "output_type": "stream",
          "text": [
            " 89%|████████▉ | 444/500 [14:31<02:12,  2.36s/it]"
          ]
        },
        {
          "name": "stdout",
          "output_type": "stream",
          "text": [
            "Only 2 (required 5)  Diverse Counterfactuals found for the given configuration, perhaps try with different parameters... ; total time taken: 00 min 03 sec\n"
          ]
        },
        {
          "name": "stderr",
          "output_type": "stream",
          "text": [
            " 90%|█████████ | 451/500 [14:43<01:53,  2.31s/it]"
          ]
        },
        {
          "name": "stdout",
          "output_type": "stream",
          "text": [
            "Only 4 (required 5)  Diverse Counterfactuals found for the given configuration, perhaps try with different parameters... ; total time taken: 00 min 04 sec\n"
          ]
        },
        {
          "name": "stderr",
          "output_type": "stream",
          "text": [
            " 91%|█████████ | 455/500 [14:54<01:54,  2.54s/it]"
          ]
        },
        {
          "name": "stdout",
          "output_type": "stream",
          "text": [
            "Only 3 (required 5)  Diverse Counterfactuals found for the given configuration, perhaps try with different parameters... ; total time taken: 00 min 03 sec\n"
          ]
        },
        {
          "name": "stderr",
          "output_type": "stream",
          "text": [
            " 91%|█████████▏| 457/500 [15:00<02:02,  2.84s/it]"
          ]
        },
        {
          "name": "stdout",
          "output_type": "stream",
          "text": [
            "Only 4 (required 5)  Diverse Counterfactuals found for the given configuration, perhaps try with different parameters... ; total time taken: 00 min 03 sec\n"
          ]
        },
        {
          "name": "stderr",
          "output_type": "stream",
          "text": [
            " 92%|█████████▏| 460/500 [15:05<01:32,  2.30s/it]"
          ]
        },
        {
          "name": "stdout",
          "output_type": "stream",
          "text": [
            "Only 3 (required 5)  Diverse Counterfactuals found for the given configuration, perhaps try with different parameters... ; total time taken: 00 min 03 sec\n"
          ]
        },
        {
          "name": "stderr",
          "output_type": "stream",
          "text": [
            " 93%|█████████▎| 467/500 [15:19<01:15,  2.29s/it]"
          ]
        },
        {
          "name": "stdout",
          "output_type": "stream",
          "text": [
            "No Counterfactuals found for the given configuration, perhaps try with different parameters... ; total time taken: 00 min 03 sec\n"
          ]
        },
        {
          "name": "stderr",
          "output_type": "stream",
          "text": [
            "\r 94%|█████████▎| 468/500 [15:22<01:20,  2.51s/it]"
          ]
        },
        {
          "name": "stdout",
          "output_type": "stream",
          "text": [
            "Only 2 (required 5)  Diverse Counterfactuals found for the given configuration, perhaps try with different parameters... ; total time taken: 00 min 03 sec\n"
          ]
        },
        {
          "name": "stderr",
          "output_type": "stream",
          "text": [
            " 94%|█████████▍| 470/500 [15:27<01:17,  2.60s/it]"
          ]
        },
        {
          "name": "stdout",
          "output_type": "stream",
          "text": [
            "Only 4 (required 5)  Diverse Counterfactuals found for the given configuration, perhaps try with different parameters... ; total time taken: 00 min 03 sec\n"
          ]
        },
        {
          "name": "stderr",
          "output_type": "stream",
          "text": [
            " 94%|█████████▍| 472/500 [15:32<01:07,  2.43s/it]"
          ]
        },
        {
          "name": "stdout",
          "output_type": "stream",
          "text": [
            "Only 4 (required 5)  Diverse Counterfactuals found for the given configuration, perhaps try with different parameters... ; total time taken: 00 min 03 sec\n"
          ]
        },
        {
          "name": "stderr",
          "output_type": "stream",
          "text": [
            "\r 95%|█████████▍| 473/500 [15:35<01:10,  2.63s/it]"
          ]
        },
        {
          "name": "stdout",
          "output_type": "stream",
          "text": [
            "Only 2 (required 5)  Diverse Counterfactuals found for the given configuration, perhaps try with different parameters... ; total time taken: 00 min 03 sec\n"
          ]
        },
        {
          "name": "stderr",
          "output_type": "stream",
          "text": [
            "\r 95%|█████████▍| 474/500 [15:38<01:11,  2.76s/it]"
          ]
        },
        {
          "name": "stdout",
          "output_type": "stream",
          "text": [
            "No Counterfactuals found for the given configuration, perhaps try with different parameters... ; total time taken: 00 min 03 sec\n"
          ]
        },
        {
          "name": "stderr",
          "output_type": "stream",
          "text": [
            " 96%|█████████▌| 480/500 [15:47<00:40,  2.04s/it]"
          ]
        },
        {
          "name": "stdout",
          "output_type": "stream",
          "text": [
            "No Counterfactuals found for the given configuration, perhaps try with different parameters... ; total time taken: 00 min 03 sec\n"
          ]
        },
        {
          "name": "stderr",
          "output_type": "stream",
          "text": [
            "\r 96%|█████████▌| 481/500 [15:51<00:45,  2.39s/it]"
          ]
        },
        {
          "name": "stdout",
          "output_type": "stream",
          "text": [
            "Only 4 (required 5)  Diverse Counterfactuals found for the given configuration, perhaps try with different parameters... ; total time taken: 00 min 03 sec\n"
          ]
        },
        {
          "name": "stderr",
          "output_type": "stream",
          "text": [
            " 97%|█████████▋| 483/500 [15:55<00:39,  2.34s/it]"
          ]
        },
        {
          "name": "stdout",
          "output_type": "stream",
          "text": [
            "Only 4 (required 5)  Diverse Counterfactuals found for the given configuration, perhaps try with different parameters... ; total time taken: 00 min 03 sec\n"
          ]
        },
        {
          "name": "stderr",
          "output_type": "stream",
          "text": [
            " 99%|█████████▉| 494/500 [16:18<00:12,  2.04s/it]"
          ]
        },
        {
          "name": "stdout",
          "output_type": "stream",
          "text": [
            "Only 4 (required 5)  Diverse Counterfactuals found for the given configuration, perhaps try with different parameters... ; total time taken: 00 min 03 sec\n"
          ]
        },
        {
          "name": "stderr",
          "output_type": "stream",
          "text": [
            "100%|█████████▉| 498/500 [16:27<00:05,  2.57s/it]"
          ]
        },
        {
          "name": "stdout",
          "output_type": "stream",
          "text": [
            "Only 2 (required 5)  Diverse Counterfactuals found for the given configuration, perhaps try with different parameters... ; total time taken: 00 min 03 sec\n"
          ]
        },
        {
          "name": "stderr",
          "output_type": "stream",
          "text": [
            "100%|██████████| 500/500 [16:30<00:00,  1.98s/it]\n"
          ]
        },
        {
          "name": "stdout",
          "output_type": "stream",
          "text": [
            "Majority White\n"
          ]
        },
        {
          "name": "stderr",
          "output_type": "stream",
          "text": [
            "  1%|          | 3/500 [00:05<16:55,  2.04s/it]"
          ]
        },
        {
          "name": "stdout",
          "output_type": "stream",
          "text": [
            "Only 1 (required 5)  Diverse Counterfactuals found for the given configuration, perhaps try with different parameters... ; total time taken: 00 min 03 sec\n"
          ]
        },
        {
          "name": "stderr",
          "output_type": "stream",
          "text": [
            "  1%|▏         | 7/500 [00:12<16:25,  2.00s/it]"
          ]
        },
        {
          "name": "stdout",
          "output_type": "stream",
          "text": [
            "Only 4 (required 5)  Diverse Counterfactuals found for the given configuration, perhaps try with different parameters... ; total time taken: 00 min 03 sec\n"
          ]
        },
        {
          "name": "stderr",
          "output_type": "stream",
          "text": [
            "  2%|▏         | 10/500 [00:19<20:11,  2.47s/it]"
          ]
        },
        {
          "name": "stdout",
          "output_type": "stream",
          "text": [
            "Only 1 (required 5)  Diverse Counterfactuals found for the given configuration, perhaps try with different parameters... ; total time taken: 00 min 03 sec\n"
          ]
        },
        {
          "name": "stderr",
          "output_type": "stream",
          "text": [
            "  5%|▍         | 23/500 [00:39<14:01,  1.76s/it]"
          ]
        },
        {
          "name": "stdout",
          "output_type": "stream",
          "text": [
            "Only 3 (required 5)  Diverse Counterfactuals found for the given configuration, perhaps try with different parameters... ; total time taken: 00 min 03 sec\n"
          ]
        },
        {
          "name": "stderr",
          "output_type": "stream",
          "text": [
            "  6%|▌         | 28/500 [00:47<14:11,  1.80s/it]"
          ]
        },
        {
          "name": "stdout",
          "output_type": "stream",
          "text": [
            "Only 2 (required 5)  Diverse Counterfactuals found for the given configuration, perhaps try with different parameters... ; total time taken: 00 min 03 sec\n"
          ]
        },
        {
          "name": "stderr",
          "output_type": "stream",
          "text": [
            "  6%|▋         | 32/500 [00:53<14:28,  1.86s/it]"
          ]
        },
        {
          "name": "stdout",
          "output_type": "stream",
          "text": [
            "Only 2 (required 5)  Diverse Counterfactuals found for the given configuration, perhaps try with different parameters... ; total time taken: 00 min 03 sec\n"
          ]
        },
        {
          "name": "stderr",
          "output_type": "stream",
          "text": [
            "  9%|▉         | 44/500 [01:12<13:20,  1.75s/it]"
          ]
        },
        {
          "name": "stdout",
          "output_type": "stream",
          "text": [
            "Only 4 (required 5)  Diverse Counterfactuals found for the given configuration, perhaps try with different parameters... ; total time taken: 00 min 03 sec\n"
          ]
        },
        {
          "name": "stderr",
          "output_type": "stream",
          "text": [
            "\r  9%|▉         | 45/500 [01:15<16:17,  2.15s/it]"
          ]
        },
        {
          "name": "stdout",
          "output_type": "stream",
          "text": [
            "Only 1 (required 5)  Diverse Counterfactuals found for the given configuration, perhaps try with different parameters... ; total time taken: 00 min 03 sec\n"
          ]
        },
        {
          "name": "stderr",
          "output_type": "stream",
          "text": [
            " 12%|█▏        | 60/500 [01:35<15:15,  2.08s/it]"
          ]
        },
        {
          "name": "stdout",
          "output_type": "stream",
          "text": [
            "Only 4 (required 5)  Diverse Counterfactuals found for the given configuration, perhaps try with different parameters... ; total time taken: 00 min 04 sec\n"
          ]
        },
        {
          "name": "stderr",
          "output_type": "stream",
          "text": [
            " 14%|█▍        | 69/500 [01:47<12:27,  1.74s/it]"
          ]
        },
        {
          "name": "stdout",
          "output_type": "stream",
          "text": [
            "Only 2 (required 5)  Diverse Counterfactuals found for the given configuration, perhaps try with different parameters... ; total time taken: 00 min 03 sec\n"
          ]
        },
        {
          "name": "stderr",
          "output_type": "stream",
          "text": [
            " 19%|█▉        | 94/500 [02:20<11:39,  1.72s/it]"
          ]
        },
        {
          "name": "stdout",
          "output_type": "stream",
          "text": [
            "Only 2 (required 5)  Diverse Counterfactuals found for the given configuration, perhaps try with different parameters... ; total time taken: 00 min 03 sec\n"
          ]
        },
        {
          "name": "stderr",
          "output_type": "stream",
          "text": [
            " 20%|██        | 101/500 [02:32<12:48,  1.93s/it]"
          ]
        },
        {
          "name": "stdout",
          "output_type": "stream",
          "text": [
            "Only 3 (required 5)  Diverse Counterfactuals found for the given configuration, perhaps try with different parameters... ; total time taken: 00 min 03 sec\n"
          ]
        },
        {
          "name": "stderr",
          "output_type": "stream",
          "text": [
            " 22%|██▏       | 112/500 [02:48<12:58,  2.01s/it]"
          ]
        },
        {
          "name": "stdout",
          "output_type": "stream",
          "text": [
            "Only 3 (required 5)  Diverse Counterfactuals found for the given configuration, perhaps try with different parameters... ; total time taken: 00 min 03 sec\n"
          ]
        },
        {
          "name": "stderr",
          "output_type": "stream",
          "text": [
            " 25%|██▍       | 123/500 [03:07<12:24,  1.98s/it]"
          ]
        },
        {
          "name": "stdout",
          "output_type": "stream",
          "text": [
            "Only 4 (required 5)  Diverse Counterfactuals found for the given configuration, perhaps try with different parameters... ; total time taken: 00 min 03 sec\n"
          ]
        },
        {
          "name": "stderr",
          "output_type": "stream",
          "text": [
            " 29%|██▉       | 146/500 [03:37<10:15,  1.74s/it]"
          ]
        },
        {
          "name": "stdout",
          "output_type": "stream",
          "text": [
            "Only 2 (required 5)  Diverse Counterfactuals found for the given configuration, perhaps try with different parameters... ; total time taken: 00 min 03 sec\n"
          ]
        },
        {
          "name": "stderr",
          "output_type": "stream",
          "text": [
            " 34%|███▍      | 171/500 [04:14<10:02,  1.83s/it]"
          ]
        },
        {
          "name": "stdout",
          "output_type": "stream",
          "text": [
            "Only 4 (required 5)  Diverse Counterfactuals found for the given configuration, perhaps try with different parameters... ; total time taken: 00 min 03 sec\n"
          ]
        },
        {
          "name": "stderr",
          "output_type": "stream",
          "text": [
            " 35%|███▌      | 175/500 [04:21<11:17,  2.08s/it]"
          ]
        },
        {
          "name": "stdout",
          "output_type": "stream",
          "text": [
            "Only 1 (required 5)  Diverse Counterfactuals found for the given configuration, perhaps try with different parameters... ; total time taken: 00 min 03 sec\n"
          ]
        },
        {
          "name": "stderr",
          "output_type": "stream",
          "text": [
            " 36%|███▌      | 179/500 [04:28<10:17,  1.93s/it]"
          ]
        },
        {
          "name": "stdout",
          "output_type": "stream",
          "text": [
            "Only 1 (required 5)  Diverse Counterfactuals found for the given configuration, perhaps try with different parameters... ; total time taken: 00 min 03 sec\n"
          ]
        },
        {
          "name": "stderr",
          "output_type": "stream",
          "text": [
            " 36%|███▋      | 182/500 [04:33<11:02,  2.08s/it]"
          ]
        },
        {
          "name": "stdout",
          "output_type": "stream",
          "text": [
            "Only 1 (required 5)  Diverse Counterfactuals found for the given configuration, perhaps try with different parameters... ; total time taken: 00 min 03 sec\n"
          ]
        },
        {
          "name": "stderr",
          "output_type": "stream",
          "text": [
            " 38%|███▊      | 192/500 [04:47<08:50,  1.72s/it]"
          ]
        },
        {
          "name": "stdout",
          "output_type": "stream",
          "text": [
            "Only 3 (required 5)  Diverse Counterfactuals found for the given configuration, perhaps try with different parameters... ; total time taken: 00 min 03 sec\n"
          ]
        },
        {
          "name": "stderr",
          "output_type": "stream",
          "text": [
            " 40%|███▉      | 199/500 [04:59<11:57,  2.38s/it]"
          ]
        },
        {
          "name": "stdout",
          "output_type": "stream",
          "text": [
            "Only 2 (required 5)  Diverse Counterfactuals found for the given configuration, perhaps try with different parameters... ; total time taken: 00 min 03 sec\n"
          ]
        },
        {
          "name": "stderr",
          "output_type": "stream",
          "text": [
            "\r 40%|████      | 200/500 [05:02<12:56,  2.59s/it]"
          ]
        },
        {
          "name": "stdout",
          "output_type": "stream",
          "text": [
            "Only 2 (required 5)  Diverse Counterfactuals found for the given configuration, perhaps try with different parameters... ; total time taken: 00 min 03 sec\n"
          ]
        },
        {
          "name": "stderr",
          "output_type": "stream",
          "text": [
            " 43%|████▎     | 215/500 [05:23<10:13,  2.15s/it]"
          ]
        },
        {
          "name": "stdout",
          "output_type": "stream",
          "text": [
            "Only 1 (required 5)  Diverse Counterfactuals found for the given configuration, perhaps try with different parameters... ; total time taken: 00 min 03 sec\n"
          ]
        },
        {
          "name": "stderr",
          "output_type": "stream",
          "text": [
            " 46%|████▌     | 231/500 [05:45<07:50,  1.75s/it]"
          ]
        },
        {
          "name": "stdout",
          "output_type": "stream",
          "text": [
            "Only 3 (required 5)  Diverse Counterfactuals found for the given configuration, perhaps try with different parameters... ; total time taken: 00 min 03 sec\n"
          ]
        },
        {
          "name": "stderr",
          "output_type": "stream",
          "text": [
            " 51%|█████     | 254/500 [06:19<07:42,  1.88s/it]"
          ]
        },
        {
          "name": "stdout",
          "output_type": "stream",
          "text": [
            "Only 2 (required 5)  Diverse Counterfactuals found for the given configuration, perhaps try with different parameters... ; total time taken: 00 min 03 sec\n"
          ]
        },
        {
          "name": "stderr",
          "output_type": "stream",
          "text": [
            " 51%|█████     | 256/500 [06:24<08:47,  2.16s/it]"
          ]
        },
        {
          "name": "stdout",
          "output_type": "stream",
          "text": [
            "Only 4 (required 5)  Diverse Counterfactuals found for the given configuration, perhaps try with different parameters... ; total time taken: 00 min 03 sec\n"
          ]
        },
        {
          "name": "stderr",
          "output_type": "stream",
          "text": [
            " 53%|█████▎    | 264/500 [06:36<07:19,  1.86s/it]"
          ]
        },
        {
          "name": "stdout",
          "output_type": "stream",
          "text": [
            "Only 3 (required 5)  Diverse Counterfactuals found for the given configuration, perhaps try with different parameters... ; total time taken: 00 min 03 sec\n"
          ]
        },
        {
          "name": "stderr",
          "output_type": "stream",
          "text": [
            "\r 53%|█████▎    | 265/500 [06:40<08:42,  2.22s/it]"
          ]
        },
        {
          "name": "stdout",
          "output_type": "stream",
          "text": [
            "Only 4 (required 5)  Diverse Counterfactuals found for the given configuration, perhaps try with different parameters... ; total time taken: 00 min 03 sec\n"
          ]
        },
        {
          "name": "stderr",
          "output_type": "stream",
          "text": [
            "\r 53%|█████▎    | 266/500 [06:43<09:36,  2.47s/it]"
          ]
        },
        {
          "name": "stdout",
          "output_type": "stream",
          "text": [
            "No Counterfactuals found for the given configuration, perhaps try with different parameters... ; total time taken: 00 min 03 sec\n"
          ]
        },
        {
          "name": "stderr",
          "output_type": "stream",
          "text": [
            " 55%|█████▍    | 274/500 [06:57<07:41,  2.04s/it]"
          ]
        },
        {
          "name": "stdout",
          "output_type": "stream",
          "text": [
            "Only 2 (required 5)  Diverse Counterfactuals found for the given configuration, perhaps try with different parameters... ; total time taken: 00 min 03 sec\n"
          ]
        },
        {
          "name": "stderr",
          "output_type": "stream",
          "text": [
            " 60%|█████▉    | 299/500 [07:31<05:57,  1.78s/it]"
          ]
        },
        {
          "name": "stdout",
          "output_type": "stream",
          "text": [
            "Only 2 (required 5)  Diverse Counterfactuals found for the given configuration, perhaps try with different parameters... ; total time taken: 00 min 03 sec\n"
          ]
        },
        {
          "name": "stderr",
          "output_type": "stream",
          "text": [
            " 60%|██████    | 302/500 [07:37<06:21,  1.93s/it]"
          ]
        },
        {
          "name": "stdout",
          "output_type": "stream",
          "text": [
            "Only 3 (required 5)  Diverse Counterfactuals found for the given configuration, perhaps try with different parameters... ; total time taken: 00 min 03 sec\n"
          ]
        },
        {
          "name": "stderr",
          "output_type": "stream",
          "text": [
            " 62%|██████▏   | 308/500 [07:45<05:41,  1.78s/it]"
          ]
        },
        {
          "name": "stdout",
          "output_type": "stream",
          "text": [
            "Only 1 (required 5)  Diverse Counterfactuals found for the given configuration, perhaps try with different parameters... ; total time taken: 00 min 03 sec\n"
          ]
        },
        {
          "name": "stderr",
          "output_type": "stream",
          "text": [
            "\r 62%|██████▏   | 309/500 [07:48<06:54,  2.17s/it]"
          ]
        },
        {
          "name": "stdout",
          "output_type": "stream",
          "text": [
            "Only 3 (required 5)  Diverse Counterfactuals found for the given configuration, perhaps try with different parameters... ; total time taken: 00 min 03 sec\n"
          ]
        },
        {
          "name": "stderr",
          "output_type": "stream",
          "text": [
            " 77%|███████▋  | 384/500 [09:28<04:08,  2.14s/it]"
          ]
        },
        {
          "name": "stdout",
          "output_type": "stream",
          "text": [
            "Only 2 (required 5)  Diverse Counterfactuals found for the given configuration, perhaps try with different parameters... ; total time taken: 00 min 03 sec\n"
          ]
        },
        {
          "name": "stderr",
          "output_type": "stream",
          "text": [
            " 79%|███████▉  | 396/500 [09:45<03:11,  1.84s/it]"
          ]
        },
        {
          "name": "stdout",
          "output_type": "stream",
          "text": [
            "No Counterfactuals found for the given configuration, perhaps try with different parameters... ; total time taken: 00 min 03 sec\n"
          ]
        },
        {
          "name": "stderr",
          "output_type": "stream",
          "text": [
            " 82%|████████▏ | 408/500 [10:02<02:38,  1.72s/it]"
          ]
        },
        {
          "name": "stdout",
          "output_type": "stream",
          "text": [
            "Only 4 (required 5)  Diverse Counterfactuals found for the given configuration, perhaps try with different parameters... ; total time taken: 00 min 03 sec\n"
          ]
        },
        {
          "name": "stderr",
          "output_type": "stream",
          "text": [
            " 90%|████████▉ | 448/500 [10:59<01:44,  2.01s/it]"
          ]
        },
        {
          "name": "stdout",
          "output_type": "stream",
          "text": [
            "Only 4 (required 5)  Diverse Counterfactuals found for the given configuration, perhaps try with different parameters... ; total time taken: 00 min 03 sec\n"
          ]
        },
        {
          "name": "stderr",
          "output_type": "stream",
          "text": [
            " 90%|█████████ | 452/500 [11:05<01:32,  1.92s/it]"
          ]
        },
        {
          "name": "stdout",
          "output_type": "stream",
          "text": [
            "Only 1 (required 5)  Diverse Counterfactuals found for the given configuration, perhaps try with different parameters... ; total time taken: 00 min 03 sec\n"
          ]
        },
        {
          "name": "stderr",
          "output_type": "stream",
          "text": [
            " 94%|█████████▍| 472/500 [11:30<00:49,  1.78s/it]"
          ]
        },
        {
          "name": "stdout",
          "output_type": "stream",
          "text": [
            "Only 4 (required 5)  Diverse Counterfactuals found for the given configuration, perhaps try with different parameters... ; total time taken: 00 min 03 sec\n"
          ]
        },
        {
          "name": "stderr",
          "output_type": "stream",
          "text": [
            " 96%|█████████▌| 480/500 [11:44<00:37,  1.86s/it]"
          ]
        },
        {
          "name": "stdout",
          "output_type": "stream",
          "text": [
            "Only 2 (required 5)  Diverse Counterfactuals found for the given configuration, perhaps try with different parameters... ; total time taken: 00 min 03 sec\n"
          ]
        },
        {
          "name": "stderr",
          "output_type": "stream",
          "text": [
            " 97%|█████████▋| 484/500 [11:50<00:30,  1.88s/it]"
          ]
        },
        {
          "name": "stdout",
          "output_type": "stream",
          "text": [
            "Only 2 (required 5)  Diverse Counterfactuals found for the given configuration, perhaps try with different parameters... ; total time taken: 00 min 03 sec\n"
          ]
        },
        {
          "name": "stderr",
          "output_type": "stream",
          "text": [
            "100%|██████████| 500/500 [12:12<00:00,  1.46s/it]\n"
          ]
        }
      ],
      "source": [
        "#import pickle\n",
        "#from google.colab import drive\n",
        "#drive.mount('/content/drive')\n",
        "#path='/content/drive/My Drive/DATASET/CF_Adult_Income_Final.pkl'\n",
        "#with open(path, 'wb') as f:\n",
        "counterfactuals_exp_o = {}\n",
        "for name in algnames:\n",
        "    print(name)\n",
        "    counterfactuals_exp_o[name]=exp[name].generate_counterfactuals(negative_test_x[name][0:500].drop(['Sum_of_Score'],axis=1), total_CFs=5,desired_class=1 ,features_to_vary=features_categorical_ns)\n",
        "#pickle.dump(counterfactuals_exp_o, f)"
      ],
      "id": "c837af65-697d-4f9f-9501-6f9a81e4b67d"
    },
    {
      "cell_type": "code",
      "execution_count": null,
      "metadata": {
        "colab": {
          "base_uri": "https://localhost:8080/"
        },
        "id": "4wdUWqb8dh7M",
        "outputId": "f64ba232-4048-4ba5-9721-45bb14f1810c"
      },
      "outputs": [
        {
          "data": {
            "text/plain": [
              "{'Majority Male': <dice_ml.counterfactual_explanations.CounterfactualExplanations at 0x7f02249a6910>}"
            ]
          },
          "execution_count": 76,
          "metadata": {},
          "output_type": "execute_result"
        }
      ],
      "source": [
        "counterfactuals_exp_o"
      ],
      "id": "4wdUWqb8dh7M"
    },
    {
      "cell_type": "code",
      "execution_count": null,
      "metadata": {
        "colab": {
          "base_uri": "https://localhost:8080/"
        },
        "id": "AtFY90Tv0JMV",
        "outputId": "822e0d02-53c5-4771-b5d9-30c7b8939e4c"
      },
      "outputs": [
        {
          "name": "stdout",
          "output_type": "stream",
          "text": [
            "Drive already mounted at /content/drive; to attempt to forcibly remount, call drive.mount(\"/content/drive\", force_remount=True).\n"
          ]
        }
      ],
      "source": [
        "import pickle\n",
        "from google.colab import drive\n",
        "drive.mount('/content/drive')\n",
        "path='/content/drive/My Drive/DATASET/CF_Adult_Income_Final_Maj.pkl'\n",
        "#with open(path, 'wb') as f:\n",
        "    #pickle.dump(counterfactuals_exp_o, f)\n",
        "\n",
        "with open(path, 'rb') as f:\n",
        "    counterfactuals_exp_o=pickle.load(f)\n"
      ],
      "id": "AtFY90Tv0JMV"
    },
    {
      "cell_type": "markdown",
      "metadata": {
        "id": "14586df3"
      },
      "source": [
        "## Row total and Alg total"
      ],
      "id": "14586df3"
    },
    {
      "cell_type": "code",
      "execution_count": null,
      "metadata": {
        "id": "51ccd9ea-5476-4670-9bd8-70da2f6b7c30"
      },
      "outputs": [],
      "source": [
        "n_cfs=[len(counterfactuals_exp_o[name]._cf_examples_list) for name in algnames]\n",
        "row_total={name: [pd.DataFrame()]*i for name, i in zip(algnames, n_cfs)}\n",
        "\n",
        "effort_cols = np.array(['occupation','marital-status','relationship','workclass','education','hours_per_week'])\n",
        "\n",
        "for name, j in zip(algnames, n_cfs):\n",
        "    for i in range(j):\n",
        "\n",
        "        # Get counterfactuals\n",
        "        rowww=counterfactuals_exp_o[name]._cf_examples_list[i].final_cfs_df_sparse\n",
        "        if rowww is not None and len(rowww) != 0:\n",
        "            \n",
        "            #row_orig=pd.DataFrame(negative_test_x[name].drop(columns=['Sum_of_Score']).iloc[i])\n",
        "            row_orig=pd.DataFrame(negative_test_x[name].iloc[i])\n",
        "            row_total[name][i]=row_orig.transpose() # Add Original example \n",
        "            \n",
        "            # Add counterfactuals\n",
        "            rowww['algname'] = name\n",
        "            row_total[name][i]=row_total[name][i].append(rowww).reset_index(drop=True).fillna('-')\n",
        "\n",
        "            # Get qualification and effort\n",
        "            row_total[name][i]['qualification']  = row_total[name][i].apply(lambda x: np.nansum([effort_score[col][row_total[name][i].loc[x.name, col]] for col in effort_score.keys()]), axis=1) \n",
        "\n",
        "            row_total[name][i]['effort'] = row_total[name][i]['qualification'] - row_total[name][i].loc[0]['qualification'] \n",
        "            row_total[name][i] = row_total[name][i].set_index(['algname'], append=True)\n",
        "            \n",
        "            row_total[name][i] = row_total[name][i].drop(row_total[name][i][row_total[name][i]['effort'] < 0].index)\n",
        "            \n",
        "            if len(row_total[name][i]) == 1:\n",
        "                row_total[name][i] == None\n",
        "                \n",
        "            else:\n",
        "                # Dont need effort for original\n",
        "                row_total[name][i].loc[0, 'effort'] = '-'\n",
        "                # Index based on alg name\n",
        "\n",
        "                # Sparsify (Better visualization)\n",
        "                row_total[name][i].loc[1:] = row_total[name][i].loc[1:].apply(lambda x: x.where(x != row_total[name][i].loc[0, x.name][0]), axis=0).fillna('-')\n",
        "                # Reorder columns\n",
        "                row_total[name][i] = row_total[name][i][['age', 'race', 'sex', 'education', 'workclass', 'marital-status', 'occupation', 'relationship', 'hours_per_week', 'native_country', 'capital-gain', 'capital-loss', 'result', 'qualification', 'effort']]\n",
        "\n",
        "                row_total[name][i] = row_total[name][i].drop(columns=['capital-gain', 'capital-loss'])"
      ],
      "id": "51ccd9ea-5476-4670-9bd8-70da2f6b7c30"
    },
    {
      "cell_type": "code",
      "execution_count": null,
      "metadata": {
        "id": "cebfd95c-4010-481e-85ef-1c32f77df8de"
      },
      "outputs": [],
      "source": [
        "alg_total={name : pd.DataFrame(columns=row_total[name][0].loc[0].columns) for name in algnames}\n",
        "for name in algnames:\n",
        "    for idx, row in enumerate(row_total[name]):\n",
        "        if row is not None and len(row)!= 0:\n",
        "            # All effort values for all algorithms\n",
        "            effort_tmp = row.loc[1:, 'effort']\n",
        "            alg_total[name] = alg_total[name].append(row.loc[0], ignore_index=True)\n",
        "            # Get effort values for that algorithm and sample\n",
        "            effort_vals = effort_tmp[effort_tmp.index.get_level_values(1) == name]\n",
        "            mean_effort = np.mean(effort_tmp[effort_tmp.index.get_level_values(1) == name].to_numpy())\n",
        "            # Check values that have no counterfactuals\n",
        "            if mean_effort == None:\n",
        "                continue\n",
        "            alg_total[name].loc[idx, 'effort'] = mean_effort"
      ],
      "id": "cebfd95c-4010-481e-85ef-1c32f77df8de"
    },
    {
      "cell_type": "code",
      "execution_count": null,
      "metadata": {
        "colab": {
          "base_uri": "https://localhost:8080/"
        },
        "id": "HF6s2O-ZvKgr",
        "outputId": "6d89e750-57ae-4f0e-a6a5-712b6600da47"
      },
      "outputs": [
        {
          "data": {
            "text/plain": [
              "{'Majority Male':         age                race     sex     education workclass  \\\n",
              " 0     25-40               White    Male       HS-grad   Private   \n",
              " 1     18-24               White  Female  Some-college   Private   \n",
              " 2     18-24  Asian-Pac-Islander  Female  Some-college   Private   \n",
              " 3     25-40               White    Male  Some-college   Private   \n",
              " 4     41-60               White  Female       5th-6th   Private   \n",
              " ...     ...                 ...     ...           ...       ...   \n",
              " 2877  25-40               Black  Female       HS-grad   Private   \n",
              " 2878  25-40               White  Female   Prof-school   Private   \n",
              " 2879  41-60               White  Female  Some-college   Private   \n",
              " 2880  25-40               White  Female       HS-grad   Private   \n",
              " 2881  41-60               White  Female     Bachelors   Private   \n",
              " \n",
              "           marital-status         occupation    relationship hours_per_week  \\\n",
              " 0          Never-married       Craft-repair       Own-child          41-50   \n",
              " 1          Never-married              Sales       Own-child          41-50   \n",
              " 2          Never-married       Tech-support  Other-relative          31-40   \n",
              " 3          Never-married   Transport-moving  Other-relative          41-50   \n",
              " 4              Separated  Machine-op-inspct   Not-in-family          41-50   \n",
              " ...                  ...                ...             ...            ...   \n",
              " 2877       Never-married  Handlers-cleaners       Unmarried          21-30   \n",
              " 2878       Never-married     Prof-specialty   Not-in-family            >50   \n",
              " 2879            Divorced       Adm-clerical   Not-in-family          41-50   \n",
              " 2880  Married-civ-spouse      Other-service         Married          31-40   \n",
              " 2881            Divorced     Prof-specialty       Unmarried          41-50   \n",
              " \n",
              "      native_country result  qualification     effort  \n",
              " 0     United-States      -      12.180025   7.514563  \n",
              " 1     United-States      -      13.262660  18.947262  \n",
              " 2     United-States      -      12.589969  19.662985  \n",
              " 3     United-States      -      12.693464   4.247647  \n",
              " 4            Mexico      -      10.723041  20.869949  \n",
              " ...             ...    ...            ...        ...  \n",
              " 2877  United-States      -       8.347266  23.562815  \n",
              " 2878  United-States      -      26.769722   5.872185  \n",
              " 2879  United-States      -      13.453736  20.354409  \n",
              " 2880  United-States      -      19.628499  12.758892  \n",
              " 2881  United-States      -      20.073155  11.761592  \n",
              " \n",
              " [2882 rows x 13 columns],\n",
              " 'Majority White':         age                race     sex     education workclass  \\\n",
              " 0     25-40               White    Male       HS-grad   Private   \n",
              " 1     18-24               White  Female  Some-college   Private   \n",
              " 2     18-24  Asian-Pac-Islander  Female  Some-college   Private   \n",
              " 3     25-40               White    Male  Some-college   Private   \n",
              " 4     41-60               White  Female       5th-6th   Private   \n",
              " ...     ...                 ...     ...           ...       ...   \n",
              " 2463  25-40               White  Female          11th   Private   \n",
              " 2464  18-24               Black    Male  Some-college   Private   \n",
              " 2465  41-60               White  Female           9th   Private   \n",
              " 2466  25-40               Black  Female       HS-grad   Private   \n",
              " 2467  41-60               White  Female  Some-college   Private   \n",
              " \n",
              "      marital-status         occupation    relationship hours_per_week  \\\n",
              " 0     Never-married       Craft-repair       Own-child          41-50   \n",
              " 1     Never-married              Sales       Own-child          41-50   \n",
              " 2     Never-married       Tech-support  Other-relative          31-40   \n",
              " 3     Never-married   Transport-moving  Other-relative          41-50   \n",
              " 4         Separated  Machine-op-inspct   Not-in-family          41-50   \n",
              " ...             ...                ...             ...            ...   \n",
              " 2463       Divorced      Other-service   Not-in-family            >50   \n",
              " 2464  Never-married              Sales       Own-child           0-20   \n",
              " 2465       Divorced      Other-service       Own-child            >50   \n",
              " 2466  Never-married  Handlers-cleaners       Unmarried          21-30   \n",
              " 2467       Divorced       Adm-clerical   Not-in-family          41-50   \n",
              " \n",
              "      native_country result  qualification     effort  \n",
              " 0     United-States      -      12.180025   6.524563  \n",
              " 1     United-States      -      13.262660   3.821991  \n",
              " 2     United-States      -      12.589969  18.708561  \n",
              " 3     United-States      -      12.693464   4.971298  \n",
              " 4            Mexico      -      10.723041   8.640186  \n",
              " ...             ...    ...            ...        ...  \n",
              " 2463  United-States      -      12.869414   7.091196  \n",
              " 2464  United-States      -      10.882280  20.386496  \n",
              " 2465  United-States      -      11.620604   5.892465  \n",
              " 2466  United-States      -       8.347266  22.994554  \n",
              " 2467  United-States      -      13.453736   7.248898  \n",
              " \n",
              " [2468 rows x 13 columns]}"
            ]
          },
          "execution_count": 18,
          "metadata": {},
          "output_type": "execute_result"
        }
      ],
      "source": [
        "alg_total"
      ],
      "id": "HF6s2O-ZvKgr"
    },
    {
      "cell_type": "code",
      "execution_count": null,
      "metadata": {
        "colab": {
          "base_uri": "https://localhost:8080/"
        },
        "id": "Zx5qqxma4fh1",
        "outputId": "238069a4-3739-4fab-a184-91413c79ec53"
      },
      "outputs": [
        {
          "name": "stdout",
          "output_type": "stream",
          "text": [
            "Drive already mounted at /content/drive; to attempt to forcibly remount, call drive.mount(\"/content/drive\", force_remount=True).\n"
          ]
        }
      ],
      "source": [
        "import pickle\n",
        "from google.colab import drive\n",
        "drive.mount('/content/drive')\n",
        "path='/content/drive/My Drive/DATASET/alg_total_Adult_Income_Maj.pkl'\n",
        "with open(path, 'wb') as f:\n",
        "    pickle.dump(alg_total, f)\n",
        "\n",
        "#with open(path, 'rb') as f:\n",
        "    #alg_total=pickle.load(f)"
      ],
      "id": "Zx5qqxma4fh1"
    },
    {
      "cell_type": "code",
      "execution_count": null,
      "metadata": {
        "id": "DB7sCuaP4zRH"
      },
      "outputs": [],
      "source": [
        "algnames = ['Random Forest',\n",
        "            'Decision Tree',\n",
        "            'K-Nearest Neighbor',\n",
        "            'Neural Net',\n",
        "            'SVM',\n",
        "            'Adaboost',\n",
        "            'Random', \n",
        "            'Majority Male']"
      ],
      "id": "DB7sCuaP4zRH"
    },
    {
      "cell_type": "markdown",
      "metadata": {
        "id": "ec195fb4-c732-4cf6-9914-e93d59e1571e"
      },
      "source": [
        "## Results"
      ],
      "id": "ec195fb4-c732-4cf6-9914-e93d59e1571e"
    },
    {
      "cell_type": "markdown",
      "metadata": {
        "id": "M3bulztybxew"
      },
      "source": [
        "## Sex Results (Without Qualification)"
      ],
      "id": "M3bulztybxew"
    },
    {
      "cell_type": "code",
      "execution_count": null,
      "metadata": {
        "colab": {
          "base_uri": "https://localhost:8080/",
          "height": 807
        },
        "id": "7f0c6385-e375-478b-b819-2180ef7453c1",
        "outputId": "505cdf8a-02ef-4141-b4ee-25ef36318cbb"
      },
      "outputs": [
        {
          "name": "stdout",
          "output_type": "stream",
          "text": [
            "Majority Male Male 6.4\n",
            "Majority Male Female 15.8\n",
            "Majority White Male 8.7\n",
            "Majority White Female 9.0\n"
          ]
        },
        {
          "data": {
            "text/plain": [
              "<matplotlib.legend.Legend at 0x7f954cb37390>"
            ]
          },
          "execution_count": 28,
          "metadata": {},
          "output_type": "execute_result"
        },
        {
          "data": {
            "image/png": "[encoded data removed]",
            "text/plain": [
              "<Figure size 720x720 with 16 Axes>"
            ]
          },
          "metadata": {},
          "output_type": "display_data"
        }
      ],
      "source": [
        "\n",
        "## Without Sum of Score\n",
        "sexes = ['Male', 'Female']\n",
        "fig, axes_sex = plt.subplots(4, 4, figsize=(10, 10), sharey=True)\n",
        "fig.suptitle('Distribution of all score values according to Sex')\n",
        "\n",
        "for i,name in enumerate(algnames):\n",
        "    \n",
        "  for sex in sexes:\n",
        "    ###(alg_total[name].effort != '-') & (alg_total[name].qualification > 0) & (alg_total[name].qualification < 30)   #### Condition for each category\n",
        "    alg_total[name] = alg_total[name][(alg_total[name].effort != '-')]\n",
        "    alg_total[name].effort=alg_total[name].effort.astype(float)\n",
        "    #lm = sns.kdeplot(ax=axes_sex[int(np.floor(i/3)),i%3], data=alg_total[name].loc[(alg_total[name].sex==sex)],x=\"effort\")\n",
        "    lm = sns.kdeplot(ax=axes_sex[int(np.floor(i/3)),i%3], data=alg_total[name].loc[(alg_total[name].sex==sex)],x=\"effort\")\n",
        "    val_mean=alg_total[name].loc[(alg_total[name].sex==sex) & (alg_total[name].effort != '-')].effort.mean()\n",
        "    print(name,sex,round(val_mean,1))\n",
        "\n",
        "    lm.set(title=name)\n",
        "    lm.set_xlim(left=-5, right=25)\n",
        "    lm.set_ylim(bottom=0, top=0.25);\n",
        "\n",
        "fig.tight_layout(pad=3.0)\n",
        "fig.legend(labels=sexes)"
      ],
      "id": "7f0c6385-e375-478b-b819-2180ef7453c1"
    },
    {
      "cell_type": "code",
      "execution_count": null,
      "metadata": {
        "colab": {
          "base_uri": "https://localhost:8080/"
        },
        "id": "4ZWltiZTXiBe",
        "outputId": "7bbd77ca-1783-47bd-d6fb-949c454b87eb"
      },
      "outputs": [
        {
          "data": {
            "text/plain": [
              "['Majority Male']"
            ]
          },
          "execution_count": 83,
          "metadata": {},
          "output_type": "execute_result"
        }
      ],
      "source": [
        "algnames"
      ],
      "id": "4ZWltiZTXiBe"
    },
    {
      "cell_type": "markdown",
      "metadata": {
        "id": "WRiXAq3Qb9c_"
      },
      "source": [
        "## Sex Results (With Qualification)"
      ],
      "id": "WRiXAq3Qb9c_"
    },
    {
      "cell_type": "code",
      "execution_count": null,
      "metadata": {
        "colab": {
          "base_uri": "https://localhost:8080/",
          "height": 807
        },
        "id": "8Ck4SDqDeUl1",
        "outputId": "6f4cf855-979a-445d-9020-186a886cb6c8"
      },
      "outputs": [
        {
          "name": "stdout",
          "output_type": "stream",
          "text": [
            "Majority Male Male 4.9\n",
            "Majority Male Female 14.6\n",
            "Majority White Male 8.1\n",
            "Majority White Female 7.9\n"
          ]
        },
        {
          "data": {
            "text/plain": [
              "<matplotlib.legend.Legend at 0x7f9549a862d0>"
            ]
          },
          "execution_count": 29,
          "metadata": {},
          "output_type": "execute_result"
        },
        {
          "data": {
            "image/png": "[encoded data removed]",
            "text/plain": [
              "<Figure size 720x720 with 9 Axes>"
            ]
          },
          "metadata": {},
          "output_type": "display_data"
        }
      ],
      "source": [
        "\n",
        "## Without Sum of Score\n",
        "sexes = ['Male', 'Female']\n",
        "fig, axes_sex = plt.subplots(3, 3, figsize=(10, 10), sharey=True)\n",
        "fig.suptitle('Distribution of all score values according to Sex')\n",
        "\n",
        "for i,name in enumerate(algnames):\n",
        "    \n",
        "  for sex in sexes:\n",
        "    ###(alg_total[name].effort != '-') & (alg_total[name].qualification > 0) & (alg_total[name].qualification < 30)   #### Condition for each category\n",
        "    alg_total[name] = alg_total[name][(alg_total[name].effort != '-') ]\n",
        "    alg_total[name].effort=alg_total[name].effort.astype(float)\n",
        "    lm = sns.kdeplot(ax=axes_sex[int(np.floor(i/3)),i%3], data=alg_total[name].loc[(alg_total[name].sex==sex) & (alg_total[name].qualification > 12) & (alg_total[name].qualification < 24)],x=\"effort\")\n",
        "    val_mean=alg_total[name].loc[(alg_total[name].sex==sex) & (alg_total[name].qualification > 12) & (alg_total[name].qualification < 24)].effort.mean()\n",
        "    print(name,sex,round(val_mean,1))\n",
        "\n",
        "    lm.set(title=name)\n",
        "    lm.set_xlim(left=-5, right=15)\n",
        "    lm.set_ylim(bottom=0, top=0.3);\n",
        "\n",
        "fig.tight_layout(pad=3.0)\n",
        "fig.legend(labels=sexes)"
      ],
      "id": "8Ck4SDqDeUl1"
    },
    {
      "cell_type": "markdown",
      "metadata": {
        "id": "2V1DUVu_Ad5I"
      },
      "source": [
        "## KL-Div"
      ],
      "id": "2V1DUVu_Ad5I"
    },
    {
      "cell_type": "markdown",
      "metadata": {
        "id": "87fb54ca-8916-403d-8772-a28c4618339d"
      },
      "source": [
        "# Race Results (Without Qualification)"
      ],
      "id": "87fb54ca-8916-403d-8772-a28c4618339d"
    },
    {
      "cell_type": "code",
      "execution_count": null,
      "metadata": {
        "colab": {
          "base_uri": "https://localhost:8080/",
          "height": 1000
        },
        "id": "1b100da6-246c-4442-ba8c-f244615e26e0",
        "outputId": "ee93b803-02c0-47ec-df97-6c7b9c0ff045"
      },
      "outputs": [
        {
          "name": "stdout",
          "output_type": "stream",
          "text": [
            "Random Forest White 6.5\n",
            "Random Forest Asian-Pac-Islander 7.6\n",
            "Random Forest Black 8.6\n",
            "Random Forest Amer-Indian-Eskimo 9.7\n",
            "Random Forest Other 9.8\n",
            "Random Forest nan nan\n",
            "Decision Tree White 5.2\n",
            "Decision Tree Asian-Pac-Islander 4.9\n",
            "Decision Tree Black 5.3\n",
            "Decision Tree Amer-Indian-Eskimo 5.2\n",
            "Decision Tree Other 4.7\n",
            "Decision Tree nan nan\n",
            "K-Nearest Neighbor White 6.1\n",
            "K-Nearest Neighbor Asian-Pac-Islander 6.0\n",
            "K-Nearest Neighbor Black 7.1\n",
            "K-Nearest Neighbor Amer-Indian-Eskimo 7.2\n",
            "K-Nearest Neighbor Other 6.4\n",
            "K-Nearest Neighbor nan nan\n",
            "Neural Net White 10.7\n",
            "Neural Net Asian-Pac-Islander 11.3\n",
            "Neural Net Black 12.8\n",
            "Neural Net Amer-Indian-Eskimo 13.9\n",
            "Neural Net Other 14.1\n",
            "Neural Net nan nan\n",
            "SVM White 8.9\n",
            "SVM Asian-Pac-Islander 11.3\n",
            "SVM Black 12.6\n",
            "SVM Amer-Indian-Eskimo 10.4\n",
            "SVM Other 13.9\n",
            "SVM nan nan\n",
            "Adaboost White 9.5\n",
            "Adaboost Asian-Pac-Islander 10.3\n",
            "Adaboost Black 11.2\n",
            "Adaboost Amer-Indian-Eskimo 10.8\n",
            "Adaboost Other 11.5\n",
            "Adaboost nan nan\n",
            "Random White 3.6\n",
            "Random Asian-Pac-Islander 2.9\n",
            "Random Black 3.5\n",
            "Random Amer-Indian-Eskimo 4.0\n",
            "Random Other 4.0\n",
            "Random nan nan\n",
            "Majority Male White 12.6\n",
            "Majority Male Asian-Pac-Islander 12.7\n",
            "Majority Male Black 14.0\n",
            "Majority Male Amer-Indian-Eskimo 16.3\n",
            "Majority Male Other 8.4\n",
            "Majority Male nan nan\n",
            "Majority White White 6.4\n",
            "Majority White Asian-Pac-Islander 13.2\n",
            "Majority White Black 15.8\n",
            "Majority White Amer-Indian-Eskimo 15.8\n",
            "Majority White Other 18.4\n",
            "Majority White nan nan\n"
          ]
        },
        {
          "data": {
            "text/plain": [
              "<matplotlib.legend.Legend at 0x7f2f41e98290>"
            ]
          },
          "execution_count": 23,
          "metadata": {},
          "output_type": "execute_result"
        },
        {
          "data": {
            "image/png": "[encoded data removed]",
            "text/plain": [
              "<Figure size 720x720 with 9 Axes>"
            ]
          },
          "metadata": {},
          "output_type": "display_data"
        }
      ],
      "source": [
        "races = alg_total['Random Forest']['race'].unique()\n",
        "\n",
        "fig, axes_race = plt.subplots(3, 3, figsize=(10, 10), sharey=True)\n",
        "fig.suptitle('Distribution of all score values according to Sex')\n",
        "\n",
        "for i,name in enumerate(algnames):\n",
        "    \n",
        "  for race in races:\n",
        "    alg_total[name] = alg_total[name][(alg_total[name].effort != '-') ]\n",
        "    lm = sns.kdeplot(ax=axes_race[int(np.floor(i/3)),i%3], data=alg_total[name].loc[(alg_total[name].race==race)],x=\"effort\")\n",
        "    val_mean=alg_total[name].loc[(alg_total[name].race==race)].effort.mean()\n",
        "    print(name,race,round(val_mean,1))\n",
        "\n",
        "    lm.set(title=name)\n",
        "    lm.set_xlim(left=-5, right=40)\n",
        "    lm.set_ylim(bottom=0, top=0.3);\n",
        "\n",
        "fig.tight_layout(pad=3.0)\n",
        "fig.legend(labels=races)\n"
      ],
      "id": "1b100da6-246c-4442-ba8c-f244615e26e0"
    },
    {
      "cell_type": "markdown",
      "metadata": {
        "id": "xA0AL0IygnRP"
      },
      "source": [
        "# Race Results (With Qualification)"
      ],
      "id": "xA0AL0IygnRP"
    },
    {
      "cell_type": "code",
      "execution_count": null,
      "metadata": {
        "colab": {
          "base_uri": "https://localhost:8080/",
          "height": 1000
        },
        "id": "jNv58UAvgtXh",
        "outputId": "5363221f-eb4e-472a-8d15-6941e2c65016"
      },
      "outputs": [
        {
          "name": "stdout",
          "output_type": "stream",
          "text": [
            "Majority Male White 11.7\n",
            "Majority Male Asian-Pac-Islander 10.8\n",
            "Majority Male Black 12.3\n",
            "Majority Male nan nan\n",
            "Majority Male Amer-Indian-Eskimo 4.3\n",
            "Majority Male Other 3.0\n",
            "Majority White White 4.9\n",
            "Majority White Asian-Pac-Islander 14.1\n",
            "Majority White Black 13.7\n",
            "Majority White nan nan\n"
          ]
        },
        {
          "name": "stderr",
          "output_type": "stream",
          "text": [
            "/usr/local/lib/python3.7/dist-packages/seaborn/distributions.py:316: UserWarning: Dataset has 0 variance; skipping density estimate. Pass `warn_singular=False` to disable this warning.\n",
            "  warnings.warn(msg, UserWarning)\n",
            "/usr/local/lib/python3.7/dist-packages/seaborn/distributions.py:316: UserWarning: Dataset has 0 variance; skipping density estimate. Pass `warn_singular=False` to disable this warning.\n",
            "  warnings.warn(msg, UserWarning)\n"
          ]
        },
        {
          "name": "stdout",
          "output_type": "stream",
          "text": [
            "Majority White Amer-Indian-Eskimo 12.9\n",
            "Majority White Other 14.5\n"
          ]
        },
        {
          "data": {
            "text/plain": [
              "<matplotlib.legend.Legend at 0x7f954973cfd0>"
            ]
          },
          "execution_count": 30,
          "metadata": {},
          "output_type": "execute_result"
        },
        {
          "data": {
            "image/png": "[encoded data removed]",
            "text/plain": [
              "<Figure size 720x720 with 9 Axes>"
            ]
          },
          "metadata": {},
          "output_type": "display_data"
        }
      ],
      "source": [
        "races = alg_total['Majority Male']['race'].unique()\n",
        "\n",
        "fig, axes_race = plt.subplots(3, 3, figsize=(10, 10), sharey=True)\n",
        "fig.suptitle('Distribution of all score values according to Sex')\n",
        "\n",
        "for i,name in enumerate(algnames):\n",
        "  #val=[]\n",
        "  for race in races:\n",
        "    alg_total[name] = alg_total[name][(alg_total[name].effort != '-') ]\n",
        "    lm = sns.kdeplot(ax=axes_race[int(np.floor(i/3)),i%3], data=alg_total[name].loc[(alg_total[name].race==race) & (alg_total[name].qualification > 12) & (alg_total[name].qualification < 24)],x=\"effort\")\n",
        "    val_mean=alg_total[name].loc[(alg_total[name].race==race) & (alg_total[name].qualification > 12) & (alg_total[name].qualification < 24)].effort.mean()\n",
        "    print(name,race,round(val_mean,1))\n",
        "    #val.append(round(val_mean,1))\n",
        "    lm.set(title=name)\n",
        "    lm.set_xlim(left=-5, right=40)\n",
        "    lm.set_ylim(bottom=0, top=0.3);\n",
        "  #print(\"std\",name,np.std(np.array(val)))\n",
        "\n",
        "fig.tight_layout(pad=3.0)\n",
        "fig.legend(labels=races)"
      ],
      "id": "jNv58UAvgtXh"
    }
  ],
  "metadata": {
    "colab": {
      "provenance": [],
      "include_colab_link": true
    },
    "kernelspec": {
      "display_name": "Python 3 (ipykernel)",
      "language": "python",
      "name": "python3"
    },
    "language_info": {
      "codemirror_mode": {
        "name": "ipython",
        "version": 3
      },
      "file_extension": ".py",
      "mimetype": "text/x-python",
      "name": "python",
      "nbconvert_exporter": "python",
      "pygments_lexer": "ipython3",
      "version": "3.8.12"
    }
  },
  "nbformat": 4,
  "nbformat_minor": 5
}